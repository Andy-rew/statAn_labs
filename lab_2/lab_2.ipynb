{
 "cells": [
  {
   "cell_type": "markdown",
   "metadata": {
    "collapsed": true,
    "pycharm": {
     "name": "#%% md\n"
    }
   },
   "source": [
    "Середины интервалов, относительные частоты, условные варианты, произведения"
   ]
  },
  {
   "cell_type": "code",
   "execution_count": 92,
   "metadata": {
    "pycharm": {
     "name": "#%%\n"
    }
   },
   "outputs": [
    {
     "name": "stdout",
     "output_type": "stream",
     "text": [
      "     x_i     p_i  u_i   ui_pi  ui2_pi  ui3_pi  ui4_pi\n",
      "0  0.745  0.0465 -3.0 -0.1395  0.4185 -1.2555  3.7665\n",
      "1  1.245  0.2791 -2.0 -0.5582  1.1164 -2.2328  4.4656\n",
      "2  1.745  0.2558 -1.0 -0.2558  0.2558 -0.2558  0.2558\n",
      "3  2.245  0.2558  0.0  0.0000  0.0000  0.0000  0.0000\n",
      "4  2.745  0.1163  1.0  0.1163  0.1163  0.1163  0.1163\n",
      "5  3.245  0.0465  2.0  0.0930  0.1860  0.3720  0.7440\n"
     ]
    }
   ],
   "source": [
    "import pandas as pd\n",
    "import math\n",
    "\n",
    "\n",
    "borders = []\n",
    "for i in range(7):\n",
    "    borders.append((0.495 + 0.5 * i))\n",
    "\n",
    "mid_intervals = []\n",
    "for i in range(6):\n",
    "    mid_intervals.append((borders[i] + borders[i + 1])/2)\n",
    "\n",
    "p_i = [0.0465, 0.2791, 0.2558, 0.2558, 0.1163, 0.0465] # из предыдущей работы\n",
    "\n",
    "c = mid_intervals[3]\n",
    "h = 0.5\n",
    "u_i = []\n",
    "ui_pi = []\n",
    "ui2_pi = []\n",
    "ui3_pi = []\n",
    "ui4_pi = []\n",
    "for i  in range(6):\n",
    "    u_i.append((mid_intervals[i] - c)/h)\n",
    "    ui_pi.append(u_i[i] * p_i[i])\n",
    "    ui2_pi.append(pow(u_i[i],2) * p_i[i])\n",
    "    ui3_pi.append(pow(u_i[i],3) * p_i[i])\n",
    "    ui4_pi.append(pow(u_i[i],4) * p_i[i])\n",
    "\n",
    "df = pd.DataFrame({'x_i': mid_intervals, 'p_i': p_i, 'u_i': u_i, 'ui_pi': ui_pi, 'ui2_pi': ui2_pi, 'ui3_pi': ui3_pi, 'ui4_pi': ui4_pi})\n",
    "df = df.round(4)\n",
    "print(df)"
   ]
  },
  {
   "cell_type": "markdown",
   "metadata": {
    "pycharm": {
     "name": "#%% md\n"
    }
   },
   "source": [
    "Условные и центральные эмпирические моменты"
   ]
  },
  {
   "cell_type": "code",
   "execution_count": 93,
   "metadata": {
    "pycharm": {
     "name": "#%%\n"
    }
   },
   "outputs": [
    {
     "data": {
      "text/html": [
       "<div>\n",
       "<style scoped>\n",
       "    .dataframe tbody tr th:only-of-type {\n",
       "        vertical-align: middle;\n",
       "    }\n",
       "\n",
       "    .dataframe tbody tr th {\n",
       "        vertical-align: top;\n",
       "    }\n",
       "\n",
       "    .dataframe thead th {\n",
       "        text-align: right;\n",
       "    }\n",
       "</style>\n",
       "<table border=\"1\" class=\"dataframe\">\n",
       "  <thead>\n",
       "    <tr style=\"text-align: right;\">\n",
       "      <th></th>\n",
       "      <th>v</th>\n",
       "      <th>m</th>\n",
       "    </tr>\n",
       "  </thead>\n",
       "  <tbody>\n",
       "    <tr>\n",
       "      <th>0</th>\n",
       "      <td>-0.744</td>\n",
       "      <td>0.000</td>\n",
       "    </tr>\n",
       "    <tr>\n",
       "      <th>1</th>\n",
       "      <td>2.093</td>\n",
       "      <td>0.385</td>\n",
       "    </tr>\n",
       "    <tr>\n",
       "      <th>2</th>\n",
       "      <td>-3.256</td>\n",
       "      <td>0.074</td>\n",
       "    </tr>\n",
       "    <tr>\n",
       "      <th>3</th>\n",
       "      <td>9.348</td>\n",
       "      <td>0.356</td>\n",
       "    </tr>\n",
       "  </tbody>\n",
       "</table>\n",
       "</div>"
      ],
      "text/plain": [
       "       v      m\n",
       "0 -0.744  0.000\n",
       "1  2.093  0.385\n",
       "2 -3.256  0.074\n",
       "3  9.348  0.356"
      ]
     },
     "execution_count": 93,
     "metadata": {},
     "output_type": "execute_result"
    }
   ],
   "source": [
    "v = [sum(df['ui_pi'])]\n",
    "for i in range(3):\n",
    "    v.append(sum(df['ui'+ str(i+2) + '_pi']))\n",
    "\n",
    "m = []\n",
    "x_mid = v[0] * h + c\n",
    "for j in range(4):\n",
    "        m.append(sum(pow((df['x_i'] - x_mid), j + 1) * df['p_i']))\n",
    "df_moment = pd.DataFrame({'v': v, 'm': m})\n",
    "df_moment.round(3)\n"
   ]
  },
  {
   "cell_type": "code",
   "execution_count": 94,
   "metadata": {
    "pycharm": {
     "name": "#%%\n"
    }
   },
   "outputs": [
    {
     "name": "stdout",
     "output_type": "stream",
     "text": [
      "Сравнение способов подсчета дисперсии и выборочного среднего\n"
     ]
    },
    {
     "data": {
      "text/html": [
       "<div>\n",
       "<style scoped>\n",
       "    .dataframe tbody tr th:only-of-type {\n",
       "        vertical-align: middle;\n",
       "    }\n",
       "\n",
       "    .dataframe tbody tr th {\n",
       "        vertical-align: top;\n",
       "    }\n",
       "\n",
       "    .dataframe thead th {\n",
       "        text-align: right;\n",
       "    }\n",
       "</style>\n",
       "<table border=\"1\" class=\"dataframe\">\n",
       "  <thead>\n",
       "    <tr style=\"text-align: right;\">\n",
       "      <th></th>\n",
       "      <th>x_mid_st</th>\n",
       "      <th>x_mid_cond</th>\n",
       "      <th>disp_st</th>\n",
       "      <th>disp_cond</th>\n",
       "    </tr>\n",
       "  </thead>\n",
       "  <tbody>\n",
       "    <tr>\n",
       "      <th>0</th>\n",
       "      <td>1.873</td>\n",
       "      <td>1.873</td>\n",
       "      <td>0.385</td>\n",
       "      <td>0.385</td>\n",
       "    </tr>\n",
       "  </tbody>\n",
       "</table>\n",
       "</div>"
      ],
      "text/plain": [
       "   x_mid_st  x_mid_cond  disp_st  disp_cond\n",
       "0     1.873       1.873    0.385      0.385"
      ]
     },
     "execution_count": 94,
     "metadata": {},
     "output_type": "execute_result"
    }
   ],
   "source": [
    "x_mid_st = sum(df['x_i'] * df['p_i'])\n",
    "print('Сравнение способов подсчета дисперсии и выборочного среднего')\n",
    "disp_st = sum(pow((df['x_i'] - x_mid_st), 2) * df['p_i'])\n",
    "df_st_compare = pd.DataFrame({'x_mid_st': [x_mid_st], 'x_mid_cond': [x_mid], 'disp_st': [disp_st], 'disp_cond': df_moment['m'][1] })\n",
    "df_st_compare.round(3)"
   ]
  },
  {
   "cell_type": "markdown",
   "metadata": {
    "pycharm": {
     "name": "#%% md\n"
    }
   },
   "source": [
    "Сравнение дисперсий"
   ]
  },
  {
   "cell_type": "code",
   "execution_count": 95,
   "metadata": {
    "pycharm": {
     "name": "#%%\n"
    }
   },
   "outputs": [
    {
     "data": {
      "text/html": [
       "<div>\n",
       "<style scoped>\n",
       "    .dataframe tbody tr th:only-of-type {\n",
       "        vertical-align: middle;\n",
       "    }\n",
       "\n",
       "    .dataframe tbody tr th {\n",
       "        vertical-align: top;\n",
       "    }\n",
       "\n",
       "    .dataframe thead th {\n",
       "        text-align: right;\n",
       "    }\n",
       "</style>\n",
       "<table border=\"1\" class=\"dataframe\">\n",
       "  <thead>\n",
       "    <tr style=\"text-align: right;\">\n",
       "      <th></th>\n",
       "      <th>disp_correct</th>\n",
       "      <th>sko_correct</th>\n",
       "      <th>disp_st</th>\n",
       "      <th>sko_st</th>\n",
       "    </tr>\n",
       "  </thead>\n",
       "  <tbody>\n",
       "    <tr>\n",
       "      <th>0</th>\n",
       "      <td>0.462</td>\n",
       "      <td>0.68</td>\n",
       "      <td>0.385</td>\n",
       "      <td>0.62</td>\n",
       "    </tr>\n",
       "  </tbody>\n",
       "</table>\n",
       "</div>"
      ],
      "text/plain": [
       "   disp_correct  sko_correct  disp_st  sko_st\n",
       "0         0.462         0.68    0.385    0.62"
      ]
     },
     "execution_count": 95,
     "metadata": {},
     "output_type": "execute_result"
    }
   ],
   "source": [
    "disp_correct = disp_st * 6 / 5\n",
    "\n",
    "disp_compare = pd.DataFrame({'disp_correct': [disp_correct], 'sko_correct': [math.sqrt(disp_correct)], 'disp_st': [disp_st], 'sko_st': [math.sqrt(disp_st)] })\n",
    "disp_compare.round(3)"
   ]
  },
  {
   "cell_type": "markdown",
   "metadata": {
    "pycharm": {
     "name": "#%% md\n"
    }
   },
   "source": [
    "Оценка коэфф. асимметрии и эксцесса"
   ]
  },
  {
   "cell_type": "code",
   "execution_count": 96,
   "metadata": {
    "pycharm": {
     "name": "#%%\n"
    }
   },
   "outputs": [
    {
     "name": "stdout",
     "output_type": "stream",
     "text": [
      "    a_s    e_k\n",
      "0  0.31 -0.598\n",
      "\n",
      "a_s > 0 => распределение скошено вправо, 0.25 < a_s < 0.5 => асимметрия незначительна\n",
      "e_k < 0 => наше распределение более низкое и пологое относительно нормального\n"
     ]
    }
   ],
   "source": [
    "a_s = df_moment['m'][2] / pow(disp_compare['sko_st'][0], 3)\n",
    "e_k = df_moment['m'][3] / pow(disp_compare['sko_st'][0], 4) - 3\n",
    "\n",
    "df_as_ek = pd.DataFrame({'a_s': [a_s], 'e_k': [e_k]})\n",
    "print(df_as_ek.round(3))\n",
    "\n",
    "print('\\na_s > 0 => распределение скошено вправо, 0.25 < a_s < 0.5 => асимметрия незначительна')\n",
    "print('e_k < 0 => наше распределение более низкое и пологое относительно нормального')"
   ]
  },
  {
   "cell_type": "markdown",
   "metadata": {
    "pycharm": {
     "name": "#%% md\n"
    }
   },
   "source": [
    "Мода и медиана"
   ]
  },
  {
   "cell_type": "code",
   "execution_count": 104,
   "metadata": {
    "pycharm": {
     "name": "#%%\n"
    }
   },
   "outputs": [
    {
     "data": {
      "text/html": [
       "<div>\n",
       "<style scoped>\n",
       "    .dataframe tbody tr th:only-of-type {\n",
       "        vertical-align: middle;\n",
       "    }\n",
       "\n",
       "    .dataframe tbody tr th {\n",
       "        vertical-align: top;\n",
       "    }\n",
       "\n",
       "    .dataframe thead th {\n",
       "        text-align: right;\n",
       "    }\n",
       "</style>\n",
       "<table border=\"1\" class=\"dataframe\">\n",
       "  <thead>\n",
       "    <tr style=\"text-align: right;\">\n",
       "      <th></th>\n",
       "      <th>m_o</th>\n",
       "      <th>m_e</th>\n",
       "    </tr>\n",
       "  </thead>\n",
       "  <tbody>\n",
       "    <tr>\n",
       "      <th>0</th>\n",
       "      <td>1.449</td>\n",
       "      <td>1.807</td>\n",
       "    </tr>\n",
       "  </tbody>\n",
       "</table>\n",
       "</div>"
      ],
      "text/plain": [
       "     m_o    m_e\n",
       "0  1.449  1.807"
      ]
     },
     "execution_count": 104,
     "metadata": {},
     "output_type": "execute_result"
    }
   ],
   "source": [
    "sum_p = [0.0465, 0.3256, 0.5814, 0.8372, 0.9535, 1.0] # из предыдущей работы\n",
    "mi_sum = [2, 14, 25, 36, 41, 43] # из предыдущей работы\n",
    "cent = 43 // 2\n",
    "index_med = 0\n",
    "for i in range(5):\n",
    "    if mi_sum[i] < cent <= mi_sum[i+1]:\n",
    "        index_med = i\n",
    "        break\n",
    "x_med = df['x_i'][index_med] - h/2\n",
    "m_e = x_med + h / df['p_i'][index_med] * (0.5 - sum_p[index_med - 1])\n",
    "\n",
    "id_mod = df['p_i'].idxmax()\n",
    "x_mod = df['x_i'][id_mod] - h/2\n",
    "m_o = x_mod + h * (df['p_i'][id_mod] - df['p_i'][id_mod - 1]) / (df['p_i'][id_mod] - df['p_i'][id_mod - 1] + (df['p_i'][id_mod] - df['p_i'][id_mod + 1] ))\n",
    "\n",
    "df_med_mod = pd.DataFrame({'m_o': [m_o], 'm_e': [m_e]})\n",
    "df_med_mod.round(3)"
   ]
  },
  {
   "cell_type": "markdown",
   "metadata": {
    "pycharm": {
     "name": "#%% md\n"
    }
   },
   "source": [
    "Коэффициент вариации"
   ]
  },
  {
   "cell_type": "code",
   "execution_count": 112,
   "metadata": {
    "pycharm": {
     "name": "#%%\n"
    }
   },
   "outputs": [
    {
     "name": "stdout",
     "output_type": "stream",
     "text": [
      "33.121\n",
      "коэффициент вариации > 33, значит совокупность неоднородная\n"
     ]
    }
   ],
   "source": [
    "v_var = disp_compare['sko_st'][0]/ x_mid * 100\n",
    "\n",
    "print(round(v_var,3))\n",
    "print('коэффициент вариации > 33, значит совокупность неоднородная')"
   ]
  }
 ],
 "metadata": {
  "kernelspec": {
   "display_name": "Python 3 (ipykernel)",
   "language": "python",
   "name": "python3"
  },
  "language_info": {
   "codemirror_mode": {
    "name": "ipython",
    "version": 3
   },
   "file_extension": ".py",
   "mimetype": "text/x-python",
   "name": "python",
   "nbconvert_exporter": "python",
   "pygments_lexer": "ipython3",
   "version": "3.8.10"
  }
 },
 "nbformat": 4,
 "nbformat_minor": 1
}