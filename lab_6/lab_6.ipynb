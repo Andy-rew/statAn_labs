{
 "cells": [
  {
   "cell_type": "markdown",
   "source": [
    "# Практическая работа №6: Кластерный анализ. Метод k-средних\n",
    "\n",
    "Выполнил студент гр. 9372 Чернышев Андрей"
   ],
   "metadata": {
    "collapsed": false
   }
  },
  {
   "cell_type": "markdown",
   "source": [
    "## Цель работы\n",
    "Освоение основных понятий и некоторых методов кластерного анализа,\n",
    "в частности, метода k-means."
   ],
   "metadata": {
    "collapsed": false
   }
  },
  {
   "cell_type": "markdown",
   "source": [
    "## Основные теоретические положения\n",
    "1. Формула для нормализации данных:\n",
    " * $$\\overline x_i = \\frac {x_i - \\overline x_в} {\\sigma}$$\n",
    "2. Евклидова метрика:\n",
    " * $$ d(x, y) = \\sqrt {\\sum_{i=1}^{n}(x_i - y_i)^2 } $$\n",
    "3. Манхэттенская метрика:\n",
    " * $$ d(x, y) = \\sum_{i=1}^{n} |x_i - y_i| $$"
   ],
   "metadata": {
    "collapsed": false
   }
  },
  {
   "cell_type": "markdown",
   "source": [
    "## Постановка задачи\n",
    "Дано конечное множество из объектов, представленных двумя признаками\n",
    "(в качестве этого множества принимаем исходную двумерную выборку, сформированную ранее в практической работе №4).\n",
    "Выполнить разбиение исходного множества объектов на конечное число подмножеств\n",
    "(кластеров) с использованием метода k-means."
   ],
   "metadata": {
    "collapsed": false
   }
  },
  {
   "cell_type": "markdown",
   "source": [
    "## Порядок выполнения работы\n",
    "1. Нормализовать множество точек из предыдущего раздела, отобразить полученное множество.\n",
    "2. Определить «грубую» верхнюю оценку количества кластеров.\n",
    "3. Реализовать алгоритм k-means. Отобразить полученные кластеры, выделить каждый кластер разным цветом, отметить центроиды.\n",
    "4. Реализовать алгоритмы k-medians. Отобразить полученные кластеры,\n",
    "выделить каждый кластер разным цветом, отметить центроиды.\n",
    "5. С помощью метода локтя и/или метода силуэтов выявить для каждого метода оптимальное количество кластеров.\n",
    "6. Сравнить методы. Сделать выводы.\n",
    "7. Реализовать модификацию k-means++."
   ],
   "metadata": {
    "collapsed": false
   }
  },
  {
   "cell_type": "markdown",
   "source": [
    "## Выполнение работы"
   ],
   "metadata": {
    "collapsed": false
   }
  },
  {
   "cell_type": "code",
   "execution_count": 107,
   "metadata": {
    "collapsed": true,
    "pycharm": {
     "name": "#%%\n"
    }
   },
   "outputs": [
    {
     "data": {
      "text/plain": "                                  Product  Weight  Price_euros\n0     17-Y002nv (A10-9600P/6GB/2TB/Radeon    2.65       569.00\n1                       IdeaPad 310-15ABR    2.40       499.00\n2                                Aspire 5    2.20       579.00\n3    17-ak002nv (A10-9620P/6GB/2TB/Radeon    2.71       655.01\n4        X555QG-DM242T (A10-9620P/4GB/1TB    2.20       575.00\n..                                    ...     ...          ...\n107                     IdeaPad 110-15IBR    2.20       329.00\n108                        Aspire E5-774G    3.30       629.00\n109                        Aspire ES1-572    2.40       361.80\n110                         Inspiron 3567    2.25       428.00\n111                         Inspiron 5567    2.30       499.00\n\n[112 rows x 3 columns]",
      "text/html": "<div>\n<style scoped>\n    .dataframe tbody tr th:only-of-type {\n        vertical-align: middle;\n    }\n\n    .dataframe tbody tr th {\n        vertical-align: top;\n    }\n\n    .dataframe thead th {\n        text-align: right;\n    }\n</style>\n<table border=\"1\" class=\"dataframe\">\n  <thead>\n    <tr style=\"text-align: right;\">\n      <th></th>\n      <th>Product</th>\n      <th>Weight</th>\n      <th>Price_euros</th>\n    </tr>\n  </thead>\n  <tbody>\n    <tr>\n      <th>0</th>\n      <td>17-Y002nv (A10-9600P/6GB/2TB/Radeon</td>\n      <td>2.65</td>\n      <td>569.00</td>\n    </tr>\n    <tr>\n      <th>1</th>\n      <td>IdeaPad 310-15ABR</td>\n      <td>2.40</td>\n      <td>499.00</td>\n    </tr>\n    <tr>\n      <th>2</th>\n      <td>Aspire 5</td>\n      <td>2.20</td>\n      <td>579.00</td>\n    </tr>\n    <tr>\n      <th>3</th>\n      <td>17-ak002nv (A10-9620P/6GB/2TB/Radeon</td>\n      <td>2.71</td>\n      <td>655.01</td>\n    </tr>\n    <tr>\n      <th>4</th>\n      <td>X555QG-DM242T (A10-9620P/4GB/1TB</td>\n      <td>2.20</td>\n      <td>575.00</td>\n    </tr>\n    <tr>\n      <th>...</th>\n      <td>...</td>\n      <td>...</td>\n      <td>...</td>\n    </tr>\n    <tr>\n      <th>107</th>\n      <td>IdeaPad 110-15IBR</td>\n      <td>2.20</td>\n      <td>329.00</td>\n    </tr>\n    <tr>\n      <th>108</th>\n      <td>Aspire E5-774G</td>\n      <td>3.30</td>\n      <td>629.00</td>\n    </tr>\n    <tr>\n      <th>109</th>\n      <td>Aspire ES1-572</td>\n      <td>2.40</td>\n      <td>361.80</td>\n    </tr>\n    <tr>\n      <th>110</th>\n      <td>Inspiron 3567</td>\n      <td>2.25</td>\n      <td>428.00</td>\n    </tr>\n    <tr>\n      <th>111</th>\n      <td>Inspiron 5567</td>\n      <td>2.30</td>\n      <td>499.00</td>\n    </tr>\n  </tbody>\n</table>\n<p>112 rows × 3 columns</p>\n</div>"
     },
     "execution_count": 107,
     "metadata": {},
     "output_type": "execute_result"
    }
   ],
   "source": [
    "import pandas as pd\n",
    "import numpy as np\n",
    "import matplotlib.pyplot as plt\n",
    "table = pd.read_csv(\"laptop_price.csv\",delimiter=',')\n",
    "table"
   ]
  },
  {
   "cell_type": "markdown",
   "source": [
    "Задание 1"
   ],
   "metadata": {
    "collapsed": false
   }
  },
  {
   "cell_type": "code",
   "execution_count": 108,
   "outputs": [
    {
     "name": "stdout",
     "output_type": "stream",
     "text": [
      "данные из 4 работы:\n",
      "выборочное среднее для Weight(или x):  1.839\n",
      "выборочное среднее для Price_euros(или y):  387.198\n",
      "выборочное ско для Weight(или x):  0.62\n",
      "выборочное ско для Price_euros(или y):  204.565\n",
      "---------\n",
      "нормализация: \n"
     ]
    },
    {
     "data": {
      "text/plain": "<Figure size 432x288 with 1 Axes>",
      "image/png": "[encoded data removed]"
     },
     "metadata": {},
     "output_type": "display_data"
    }
   ],
   "source": [
    "x_mid = 1.839\n",
    "y_mid = 387.198\n",
    "x_sko = 0.62\n",
    "y_sko = 204.565\n",
    "print('данные из 4 работы:')\n",
    "print('выборочное среднее для Weight(или x): ', x_mid)\n",
    "print('выборочное среднее для Price_euros(или y): ', y_mid)\n",
    "print('выборочное ско для Weight(или x): ', x_sko)\n",
    "print('выборочное ско для Price_euros(или y): ', y_sko)\n",
    "print('---------')\n",
    "x_norm = (table['Weight'] - x_mid)/ x_sko\n",
    "y_norm = (table['Price_euros'] - y_mid)/ y_sko\n",
    "print ('нормализация: ')\n",
    "table_norm = pd.DataFrame({'x': x_norm, 'y': y_norm})\n",
    "table_norm_medians = table_norm.copy()\n",
    "plt.scatter(table_norm['x'], table_norm['y'])\n",
    "plt.show()\n"
   ],
   "metadata": {
    "collapsed": false,
    "pycharm": {
     "name": "#%%\n"
    }
   }
  },
  {
   "cell_type": "markdown",
   "source": [
    "Задание 2"
   ],
   "metadata": {
    "collapsed": false
   }
  },
  {
   "cell_type": "code",
   "execution_count": 109,
   "outputs": [
    {
     "name": "stdout",
     "output_type": "stream",
     "text": [
      "верхняя оценка количества кластеров: 7\n"
     ]
    }
   ],
   "source": [
    "n = len(table['Weight'])\n",
    "k_est = int(np.sqrt(n / 2)//1)\n",
    "print(f'верхняя оценка количества кластеров: {k_est}')"
   ],
   "metadata": {
    "collapsed": false,
    "pycharm": {
     "name": "#%%\n"
    }
   }
  },
  {
   "cell_type": "markdown",
   "source": [
    "Задание 3"
   ],
   "metadata": {
    "collapsed": false
   }
  },
  {
   "cell_type": "code",
   "execution_count": 110,
   "outputs": [
    {
     "name": "stdout",
     "output_type": "stream",
     "text": [
      "получившаяся таблица соответствия исходных точек центройдам:\n",
      "           x         y  centroid\n",
      "0   1.308065  0.888725         3\n",
      "1   0.904839  0.546535         3\n",
      "2   0.582258  0.937609         3\n",
      "3   1.404839  1.309178         3\n",
      "4   0.582258  0.918055         3\n",
      "5   0.114516  0.888236         3\n",
      "6   0.324194  1.182030         3\n",
      "7   0.420968  0.693188         3\n",
      "8   0.582258  2.501904         3\n",
      "9   1.550000 -0.040075         6\n",
      "10  0.566129 -0.436037         5\n",
      "11  0.420968  0.052805         6\n",
      "12  1.404839  0.253230         6\n",
      "13  0.033871  0.055200         6\n",
      "14  0.582258  0.057693         6\n",
      "15  0.114516  0.448229         6\n",
      "16  0.114516  0.286960         6\n",
      "17  0.904839  0.302114         6\n",
      "18  0.630645  0.399883         6\n",
      "19  0.324194  0.795796         3\n"
     ]
    },
    {
     "data": {
      "text/plain": "<Figure size 432x288 with 1 Axes>",
      "image/png": "[encoded data removed]"
     },
     "metadata": {},
     "output_type": "display_data"
    }
   ],
   "source": [
    "import random\n",
    "\n",
    "\n",
    "def recalc_centr(data, centroids, mean_median):\n",
    "    centroid_recalc = []\n",
    "    for i in range(data.shape[0]):\n",
    "        errors = np.array([])\n",
    "        for j in range(centroids.shape[0]):\n",
    "                if mean_median == 'mean':\n",
    "                    error = calc_error_mean(centroids.iloc[j, :2], data.iloc[i,:2])\n",
    "                else:\n",
    "                    error = calc_error_median(centroids.iloc[j, :2], data.iloc[i,:2])\n",
    "                errors = np.append(errors, error)\n",
    "        closest_centr =  np.where(errors == np.amin(errors))[0].tolist()[0]\n",
    "        centroid_recalc.append(closest_centr)\n",
    "    return centroid_recalc\n",
    "\n",
    "\n",
    "def calc_error_mean(a, b):\n",
    "    return np.square(np.sum((a - b)**2))\n",
    "\n",
    "def calc_error_median(a, b):\n",
    "    return np.sum(np.abs(a - b))\n",
    "\n",
    "def init_centroids(k, data, if_plus_plus):\n",
    "    if not if_plus_plus:\n",
    "        return data.sample(k)\n",
    "    else:\n",
    "        cent = pd.DataFrame()\n",
    "        c1 = random.randint(0, data.shape[0])\n",
    "        cent =cent.append(data.iloc[c1,:2]).reset_index(drop=True)\n",
    "        for i in range(k - 1):\n",
    "            errors = []\n",
    "            for j in range(data.shape[0]):\n",
    "                err = (data['x'][j] - cent['x'][i])**2 + (data['y'][j] - cent['y'][i])**2\n",
    "                errors.append(err)\n",
    "            c = np.argmax(errors)\n",
    "            while np.array(data.iloc[c, :2]) in np.array(cent):\n",
    "                errors[c] = -1\n",
    "                c = np.argmax(errors)\n",
    "            cent = cent.append(data.iloc[c, :2]).reset_index(drop=True)\n",
    "        return cent\n",
    "\n",
    "def k_means_medians(data, k, mean_median, plus_plus):\n",
    "    isContinue = True\n",
    "    centr_old = pd.DataFrame()\n",
    "    centr_new = init_centroids(k, data, plus_plus).reset_index(drop=True)\n",
    "    while isContinue:\n",
    "        data['centroid'] = recalc_centr(data, centr_new, mean_median)\n",
    "        if mean_median == 'mean':\n",
    "            centr_new = data.groupby('centroid').mean().reset_index(drop=True)\n",
    "        else:\n",
    "            centr_new = data.groupby('centroid').median().reset_index(drop=True)\n",
    "        if centr_new.equals(centr_old):\n",
    "            break\n",
    "        centr_old = centr_new.copy()\n",
    "    return data['centroid'], centr_new\n",
    "\n",
    "table_norm['centroid'], centroids =  k_means_medians(table_norm, k_est, 'mean', False)\n",
    "#pd.set_option('display.max_rows', None)\n",
    "print('получившаяся таблица соответствия исходных точек центройдам:')\n",
    "print(table_norm.head(20))\n",
    "colors = {0:'red', 1:'blue', 2:'green', 3: 'purple', 4: 'black', 5: 'yellow', 6: 'magenta'}\n",
    "plt.scatter(table_norm.iloc[:,0], table_norm.iloc[:,1],  marker = 'o', c = table_norm['centroid'].apply(lambda x: colors[x]),  alpha = 0.5)\n",
    "plt.scatter(centroids.iloc[:,0], centroids.iloc[:,1],  marker = 'o', s = 200, c = centroids.index.map(lambda x: colors[x]) )\n",
    "plt.show()"
   ],
   "metadata": {
    "collapsed": false,
    "pycharm": {
     "name": "#%%\n"
    }
   }
  },
  {
   "cell_type": "markdown",
   "source": [
    "Задание 4 (k-medians)"
   ],
   "metadata": {
    "collapsed": false,
    "pycharm": {
     "name": "#%% md\n"
    }
   }
  },
  {
   "cell_type": "code",
   "execution_count": 111,
   "outputs": [
    {
     "name": "stdout",
     "output_type": "stream",
     "text": [
      "получившаяся таблица соответствия исходных точек центройдам:\n",
      "           x         y  centroid\n",
      "0   1.308065  0.888725         2\n",
      "1   0.904839  0.546535         4\n",
      "2   0.582258  0.937609         2\n",
      "3   1.404839  1.309178         2\n",
      "4   0.582258  0.918055         2\n",
      "5   0.114516  0.888236         2\n",
      "6   0.324194  1.182030         2\n",
      "7   0.420968  0.693188         2\n",
      "8   0.582258  2.501904         3\n",
      "9   1.550000 -0.040075         4\n",
      "10  0.566129 -0.436037         0\n",
      "11  0.420968  0.052805         4\n",
      "12  1.404839  0.253230         4\n",
      "13  0.033871  0.055200         4\n",
      "14  0.582258  0.057693         4\n"
     ]
    },
    {
     "data": {
      "text/plain": "<Figure size 432x288 with 1 Axes>",
      "image/png": "[encoded data removed]"
     },
     "metadata": {},
     "output_type": "display_data"
    }
   ],
   "source": [
    "table_norm_medians['centroid'], centroids_med =  k_means_medians(table_norm_medians, k_est, 'median', False)\n",
    "print('получившаяся таблица соответствия исходных точек центройдам:')\n",
    "print(table_norm_medians.head(15))\n",
    "plt.scatter(table_norm_medians.iloc[:,0], table_norm_medians.iloc[:,1],  marker = 'o', c = table_norm_medians['centroid'].apply(lambda x: colors[x]),  alpha = 0.5)\n",
    "plt.scatter(centroids_med.iloc[:,0], centroids_med.iloc[:,1],  marker = 'o', s = 200, c = centroids_med.index.map(lambda x: colors[x]) )\n",
    "plt.show()"
   ],
   "metadata": {
    "collapsed": false,
    "pycharm": {
     "name": "#%%\n"
    }
   }
  },
  {
   "cell_type": "markdown",
   "source": [
    "Задание 5 (метод локтя)"
   ],
   "metadata": {
    "collapsed": false,
    "pycharm": {
     "name": "#%% md\n"
    }
   }
  },
  {
   "cell_type": "code",
   "execution_count": 112,
   "outputs": [
    {
     "data": {
      "text/plain": "<Figure size 360x360 with 1 Axes>",
      "image/png": "[encoded data removed]"
     },
     "metadata": {},
     "output_type": "display_data"
    }
   ],
   "source": [
    "import seaborn as sns\n",
    "\n",
    "sns.set(style=\"whitegrid\")\n",
    "\n",
    "errors_elbow = []\n",
    "errors = []\n",
    "points = []\n",
    "for i in range(7):\n",
    "    errors = []\n",
    "    table_norm['centroid'], centroids =  k_means_medians(table_norm, i + 1, 'mean', False)\n",
    "    for j in range(table_norm.shape[0]):\n",
    "        err = (table_norm['x'][j] - centroids['x'][table_norm['centroid'][j]])**2 + (table_norm['y'][j] - centroids['y'][table_norm['centroid'][j]])**2\n",
    "        errors.append(err)\n",
    "    errors_elbow.append(round(sum(errors), 3))\n",
    "    points.append(i+1)\n",
    "sns.relplot(x=points, y=errors_elbow, kind=\"line\")\n",
    "plt.show()"
   ],
   "metadata": {
    "collapsed": false,
    "pycharm": {
     "name": "#%%\n"
    }
   }
  },
  {
   "cell_type": "code",
   "execution_count": 115,
   "outputs": [
    {
     "name": "stdout",
     "output_type": "stream",
     "text": [
      "По графику видно, что оптимальное количество кластеров = 6\n"
     ]
    }
   ],
   "source": [
    "print('По графику видно, что оптимальное количество кластеров = 6')"
   ],
   "metadata": {
    "collapsed": false,
    "pycharm": {
     "name": "#%%\n"
    }
   }
  },
  {
   "cell_type": "markdown",
   "source": [
    "Задание 6 (k-means++)"
   ],
   "metadata": {
    "collapsed": false,
    "pycharm": {
     "name": "#%% md\n"
    }
   }
  },
  {
   "cell_type": "code",
   "execution_count": 114,
   "outputs": [
    {
     "name": "stdout",
     "output_type": "stream",
     "text": [
      "Отличие от обычного k-means в первичной инициализации центров кластеров. В k-means++ выбирается произвольным образом центр первого кластера, потом находятся расстояния до него от всех точек и максимальноеиз них берется центром второго кластера. После этого выбирается максимальное расстояние уже от выбранной точки. После первичной инициализации кластеров алгоритм в точности повторяет обычный k-means\n",
      "\n",
      "получившаяся таблица соответствия исходных точек центройдам:\n",
      "           x         y  centroid\n",
      "0   1.308065  0.888725         5\n",
      "1   0.904839  0.546535         5\n",
      "2   0.582258  0.937609         5\n",
      "3   1.404839  1.309178         5\n",
      "4   0.582258  0.918055         5\n",
      "5   0.114516  0.888236         3\n",
      "6   0.324194  1.182030         3\n",
      "7   0.420968  0.693188         5\n",
      "8   0.582258  2.501904         3\n",
      "9   1.550000 -0.040075         5\n",
      "10  0.566129 -0.436037         0\n",
      "11  0.420968  0.052805         0\n",
      "12  1.404839  0.253230         5\n",
      "13  0.033871  0.055200         0\n",
      "14  0.582258  0.057693         0\n",
      "15  0.114516  0.448229         0\n",
      "16  0.114516  0.286960         0\n",
      "17  0.904839  0.302114         5\n",
      "18  0.630645  0.399883         5\n",
      "19  0.324194  0.795796         5\n"
     ]
    },
    {
     "data": {
      "text/plain": "<Figure size 432x288 with 1 Axes>",
      "image/png": "[encoded data removed]"
     },
     "metadata": {},
     "output_type": "display_data"
    }
   ],
   "source": [
    "print('Отличие от обычного k-means в первичной инициализации центров кластеров. В k-means++ выбирается '\n",
    "      'произвольным образом центр первого кластера, потом находятся расстояния до него от всех точек и максимальное'\n",
    "      'из них берется центром второго кластера. После этого выбирается максимальное расстояние уже от выбранной точки. '\n",
    "      'После первичной инициализации кластеров алгоритм в точности повторяет обычный k-means')\n",
    "\n",
    "\n",
    "table_norm['centroid'], centroids =  k_means_medians(table_norm, k_est, 'mean', True)\n",
    "print('\\nполучившаяся таблица соответствия исходных точек центройдам:')\n",
    "print(table_norm.head(20))\n",
    "colors = {0:'red', 1:'blue', 2:'green', 3: 'purple', 4: 'black', 5: 'yellow', 6: 'magenta'}\n",
    "plt.scatter(table_norm.iloc[:,0], table_norm.iloc[:,1],  marker = 'o', c = table_norm['centroid'].apply(lambda x: colors[x]),  alpha = 0.5)\n",
    "plt.scatter(centroids.iloc[:,0], centroids.iloc[:,1],  marker = 'o', s = 200, c = centroids.index.map(lambda x: colors[x]) )\n",
    "plt.show()\n"
   ],
   "metadata": {
    "collapsed": false,
    "pycharm": {
     "name": "#%%\n"
    }
   }
  },
  {
   "cell_type": "markdown",
   "source": [
    "## Вывод\n",
    " В процессе выполнения практической работы были реализованы такие алгоритмы разбиения на кластеры, как k-means\n",
    ", k-medians и модификация алгоритма k-means - k-means++. Для всех алгоритмов характерно, что на вход должно подаваться\n",
    "количество кластеров, на которые алгоритм будет выполнять разбиение. В алгоритмах k-means и k-medians первичные центройды\n",
    "выбираются случайно из множества всех точек, поэтому эти алгоритмы очень чувствительны к их выбору. Алгоритм k-means++ решает эту проблему.\n",
    "\n",
    "\n",
    "\n",
    "Также, была выполнена верхняя оценка количества кластеров и оценка оптимального\n",
    "количества кластеров методом локтя.\n",
    "\n",
    "\n"
   ],
   "metadata": {
    "collapsed": false,
    "pycharm": {
     "name": "#%% md\n"
    }
   }
  }
 ],
 "metadata": {
  "kernelspec": {
   "display_name": "Python 3",
   "language": "python",
   "name": "python3"
  },
  "language_info": {
   "codemirror_mode": {
    "name": "ipython",
    "version": 2
   },
   "file_extension": ".py",
   "mimetype": "text/x-python",
   "name": "python",
   "nbconvert_exporter": "python",
   "pygments_lexer": "ipython2",
   "version": "2.7.6"
  }
 },
 "nbformat": 4,
 "nbformat_minor": 0
}