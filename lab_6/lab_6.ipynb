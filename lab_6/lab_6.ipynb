{
 "cells": [
  {
   "cell_type": "code",
   "execution_count": 48,
   "metadata": {
    "collapsed": true,
    "pycharm": {
     "name": "#%%\n"
    }
   },
   "outputs": [
    {
     "data": {
      "text/plain": "                                  Product  Weight  Price_euros\n0     17-Y002nv (A10-9600P/6GB/2TB/Radeon    2.65       569.00\n1                       IdeaPad 310-15ABR    2.40       499.00\n2                                Aspire 5    2.20       579.00\n3    17-ak002nv (A10-9620P/6GB/2TB/Radeon    2.71       655.01\n4        X555QG-DM242T (A10-9620P/4GB/1TB    2.20       575.00\n..                                    ...     ...          ...\n107                     IdeaPad 110-15IBR    2.20       329.00\n108                        Aspire E5-774G    3.30       629.00\n109                        Aspire ES1-572    2.40       361.80\n110                         Inspiron 3567    2.25       428.00\n111                         Inspiron 5567    2.30       499.00\n\n[112 rows x 3 columns]",
      "text/html": "<div>\n<style scoped>\n    .dataframe tbody tr th:only-of-type {\n        vertical-align: middle;\n    }\n\n    .dataframe tbody tr th {\n        vertical-align: top;\n    }\n\n    .dataframe thead th {\n        text-align: right;\n    }\n</style>\n<table border=\"1\" class=\"dataframe\">\n  <thead>\n    <tr style=\"text-align: right;\">\n      <th></th>\n      <th>Product</th>\n      <th>Weight</th>\n      <th>Price_euros</th>\n    </tr>\n  </thead>\n  <tbody>\n    <tr>\n      <th>0</th>\n      <td>17-Y002nv (A10-9600P/6GB/2TB/Radeon</td>\n      <td>2.65</td>\n      <td>569.00</td>\n    </tr>\n    <tr>\n      <th>1</th>\n      <td>IdeaPad 310-15ABR</td>\n      <td>2.40</td>\n      <td>499.00</td>\n    </tr>\n    <tr>\n      <th>2</th>\n      <td>Aspire 5</td>\n      <td>2.20</td>\n      <td>579.00</td>\n    </tr>\n    <tr>\n      <th>3</th>\n      <td>17-ak002nv (A10-9620P/6GB/2TB/Radeon</td>\n      <td>2.71</td>\n      <td>655.01</td>\n    </tr>\n    <tr>\n      <th>4</th>\n      <td>X555QG-DM242T (A10-9620P/4GB/1TB</td>\n      <td>2.20</td>\n      <td>575.00</td>\n    </tr>\n    <tr>\n      <th>...</th>\n      <td>...</td>\n      <td>...</td>\n      <td>...</td>\n    </tr>\n    <tr>\n      <th>107</th>\n      <td>IdeaPad 110-15IBR</td>\n      <td>2.20</td>\n      <td>329.00</td>\n    </tr>\n    <tr>\n      <th>108</th>\n      <td>Aspire E5-774G</td>\n      <td>3.30</td>\n      <td>629.00</td>\n    </tr>\n    <tr>\n      <th>109</th>\n      <td>Aspire ES1-572</td>\n      <td>2.40</td>\n      <td>361.80</td>\n    </tr>\n    <tr>\n      <th>110</th>\n      <td>Inspiron 3567</td>\n      <td>2.25</td>\n      <td>428.00</td>\n    </tr>\n    <tr>\n      <th>111</th>\n      <td>Inspiron 5567</td>\n      <td>2.30</td>\n      <td>499.00</td>\n    </tr>\n  </tbody>\n</table>\n<p>112 rows × 3 columns</p>\n</div>"
     },
     "execution_count": 48,
     "metadata": {},
     "output_type": "execute_result"
    }
   ],
   "source": [
    "import pandas as pd\n",
    "import numpy as np\n",
    "import matplotlib.pyplot as plt\n",
    "table = pd.read_csv(\"laptop_price.csv\",delimiter=',')\n",
    "table\n",
    "\n"
   ]
  },
  {
   "cell_type": "code",
   "execution_count": 48,
   "outputs": [],
   "source": [],
   "metadata": {
    "collapsed": false,
    "pycharm": {
     "name": "#%%table = pd.read_csv(\"laptop_price.csv\",delimiter=',')\n"
    }
   }
  },
  {
   "cell_type": "code",
   "execution_count": 48,
   "outputs": [],
   "source": [],
   "metadata": {
    "collapsed": false,
    "pycharm": {
     "name": "#%%\n"
    }
   }
  },
  {
   "cell_type": "markdown",
   "source": [
    "Задание 1"
   ],
   "metadata": {
    "collapsed": false
   }
  },
  {
   "cell_type": "code",
   "execution_count": 49,
   "outputs": [
    {
     "name": "stdout",
     "output_type": "stream",
     "text": [
      "данные из 4 работы:\n",
      "выборочное среднее для Weight(или x):  1.839\n",
      "выборочное среднее для Price_euros(или y):  387.198\n",
      "выборочное ско для Weight(или x):  0.62\n",
      "выборочное ско для Price_euros(или y):  204.565\n",
      "---------\n",
      "нормализация: \n"
     ]
    },
    {
     "data": {
      "text/plain": "<Figure size 432x288 with 1 Axes>",
      "image/png": "[encoded data removed]"
     },
     "metadata": {
      "needs_background": "light"
     },
     "output_type": "display_data"
    }
   ],
   "source": [
    "x_mid = 1.839\n",
    "y_mid = 387.198\n",
    "x_sko = 0.62\n",
    "y_sko = 204.565\n",
    "print('данные из 4 работы:')\n",
    "print('выборочное среднее для Weight(или x): ', x_mid)\n",
    "print('выборочное среднее для Price_euros(или y): ', y_mid)\n",
    "print('выборочное ско для Weight(или x): ', x_sko)\n",
    "print('выборочное ско для Price_euros(или y): ', y_sko)\n",
    "print('---------')\n",
    "x_norm = (table['Weight'] - x_mid)/ x_sko\n",
    "y_norm = (table['Price_euros'] - y_mid)/ y_sko\n",
    "print ('нормализация: ')\n",
    "table_norm = pd.DataFrame({'x': x_norm, 'y': y_norm})\n",
    "table_norm_medians = table_norm.copy()\n",
    "plt.scatter(table_norm['x'], table_norm['y'])\n",
    "plt.show()\n"
   ],
   "metadata": {
    "collapsed": false,
    "pycharm": {
     "name": "#%%\n"
    }
   }
  },
  {
   "cell_type": "code",
   "execution_count": 49,
   "outputs": [],
   "source": [],
   "metadata": {
    "collapsed": false,
    "pycharm": {
     "name": "#%%\n"
    }
   }
  },
  {
   "cell_type": "markdown",
   "source": [
    "Задание 2"
   ],
   "metadata": {
    "collapsed": false
   }
  },
  {
   "cell_type": "code",
   "execution_count": 50,
   "outputs": [
    {
     "name": "stdout",
     "output_type": "stream",
     "text": [
      "верхняя оценка количества кластеров: 7\n"
     ]
    }
   ],
   "source": [
    "n = len(table['Weight'])\n",
    "k_est = int(np.sqrt(n / 2)//1)\n",
    "print(f'верхняя оценка количества кластеров: {k_est}')"
   ],
   "metadata": {
    "collapsed": false,
    "pycharm": {
     "name": "#%%\n"
    }
   }
  },
  {
   "cell_type": "markdown",
   "source": [
    "Задание 3"
   ],
   "metadata": {
    "collapsed": false
   }
  },
  {
   "cell_type": "code",
   "execution_count": 51,
   "outputs": [
    {
     "name": "stdout",
     "output_type": "stream",
     "text": [
      "получившаяся таблица соответствия исходных точек центройдам:\n",
      "           x         y  centroid\n",
      "0   1.308065  0.888725         6\n",
      "1   0.904839  0.546535         6\n",
      "2   0.582258  0.937609         4\n",
      "3   1.404839  1.309178         6\n",
      "4   0.582258  0.918055         4\n",
      "5   0.114516  0.888236         4\n",
      "6   0.324194  1.182030         4\n",
      "7   0.420968  0.693188         2\n",
      "8   0.582258  2.501904         4\n",
      "9   1.550000 -0.040075         6\n",
      "10  0.566129 -0.436037         5\n",
      "11  0.420968  0.052805         2\n",
      "12  1.404839  0.253230         6\n",
      "13  0.033871  0.055200         2\n",
      "14  0.582258  0.057693         2\n",
      "15  0.114516  0.448229         2\n",
      "16  0.114516  0.286960         2\n",
      "17  0.904839  0.302114         2\n",
      "18  0.630645  0.399883         2\n",
      "19  0.324194  0.795796         4\n"
     ]
    },
    {
     "data": {
      "text/plain": "<Figure size 432x288 with 1 Axes>",
      "image/png": "[encoded data removed]"
     },
     "metadata": {
      "needs_background": "light"
     },
     "output_type": "display_data"
    }
   ],
   "source": [
    "def recalc_centr(data, centroids, mean_median):\n",
    "    centroid_recalc = []\n",
    "    for i in range(data.shape[0]):\n",
    "        errors = np.array([])\n",
    "        for j in range(centroids.shape[0]):\n",
    "                if mean_median == 'mean':\n",
    "                    error = calc_error_mean(centroids.iloc[j, :2], data.iloc[i,:2])\n",
    "                else:\n",
    "                    error = calc_error_median(centroids.iloc[j, :2], data.iloc[i,:2])\n",
    "                errors = np.append(errors, error)\n",
    "        closest_centr =  np.where(errors == np.amin(errors))[0].tolist()[0]\n",
    "        centroid_recalc.append(closest_centr)\n",
    "    return centroid_recalc\n",
    "\n",
    "\n",
    "def calc_error_mean(a, b):\n",
    "    return np.square(np.sum((a - b)**2))\n",
    "\n",
    "def calc_error_median(a, b):\n",
    "    return np.sum(np.abs(a - b))\n",
    "\n",
    "def init_centroids(k, data):\n",
    "    return data.sample(k)\n",
    "\n",
    "def k_means_medians(data, k, mean_median):\n",
    "    isContinue = True\n",
    "    centr_old = pd.DataFrame()\n",
    "    centr_new = init_centroids(k, data).reset_index(drop=True)\n",
    "    while isContinue:\n",
    "        data['centroid'] = recalc_centr(data, centr_new, mean_median)\n",
    "        if mean_median == 'mean':\n",
    "            centr_new = data.groupby('centroid').mean().reset_index(drop=True)\n",
    "        else:\n",
    "            centr_new = data.groupby('centroid').median().reset_index(drop=True)\n",
    "        if centr_new.equals(centr_old):\n",
    "            break\n",
    "        centr_old = centr_new.copy()\n",
    "    return data['centroid'], centr_new\n",
    "\n",
    "table_norm['centroid'], centroids =  k_means_medians(table_norm, k_est, 'mean')\n",
    "#pd.set_option('display.max_rows', None)\n",
    "print('получившаяся таблица соответствия исходных точек центройдам:')\n",
    "print(table_norm.head(20))\n",
    "colors = {0:'red', 1:'blue', 2:'green', 3: 'purple', 4: 'black', 5: 'yellow', 6: 'magenta'}\n",
    "plt.scatter(table_norm.iloc[:,0], table_norm.iloc[:,1],  marker = 'o', c = table_norm['centroid'].apply(lambda x: colors[x]),  alpha = 0.5)\n",
    "plt.scatter(centroids.iloc[:,0], centroids.iloc[:,1],  marker = 'o', s = 200, c = centroids.index.map(lambda x: colors[x]) )\n",
    "plt.show()"
   ],
   "metadata": {
    "collapsed": false,
    "pycharm": {
     "name": "#%%\n"
    }
   }
  },
  {
   "cell_type": "markdown",
   "source": [
    "Задание 4 (k-medians)"
   ],
   "metadata": {
    "collapsed": false,
    "pycharm": {
     "name": "#%% md\n"
    }
   }
  },
  {
   "cell_type": "code",
   "execution_count": 52,
   "outputs": [
    {
     "name": "stdout",
     "output_type": "stream",
     "text": [
      "получившаяся таблица соответствия исходных точек центройдам:\n",
      "           x         y  centroid\n",
      "0   1.308065  0.888725         1\n",
      "1   0.904839  0.546535         1\n",
      "2   0.582258  0.937609         1\n",
      "3   1.404839  1.309178         1\n",
      "4   0.582258  0.918055         1\n",
      "5   0.114516  0.888236         1\n",
      "6   0.324194  1.182030         1\n",
      "7   0.420968  0.693188         1\n",
      "8   0.582258  2.501904         1\n",
      "9   1.550000 -0.040075         2\n",
      "10  0.566129 -0.436037         2\n",
      "11  0.420968  0.052805         2\n",
      "12  1.404839  0.253230         2\n",
      "13  0.033871  0.055200         2\n",
      "14  0.582258  0.057693         2\n"
     ]
    },
    {
     "data": {
      "text/plain": "<Figure size 432x288 with 1 Axes>",
      "image/png": "[encoded data removed]"
     },
     "metadata": {
      "needs_background": "light"
     },
     "output_type": "display_data"
    }
   ],
   "source": [
    "table_norm_medians['centroid'], centroids_med =  k_means_medians(table_norm_medians, k_est, 'median')\n",
    "print('получившаяся таблица соответствия исходных точек центройдам:')\n",
    "print(table_norm_medians.head(15))\n",
    "plt.scatter(table_norm_medians.iloc[:,0], table_norm_medians.iloc[:,1],  marker = 'o', c = table_norm_medians['centroid'].apply(lambda x: colors[x]),  alpha = 0.5)\n",
    "plt.scatter(centroids_med.iloc[:,0], centroids_med.iloc[:,1],  marker = 'o', s = 200, c = centroids_med.index.map(lambda x: colors[x]) )\n",
    "plt.show()"
   ],
   "metadata": {
    "collapsed": false,
    "pycharm": {
     "name": "#%%\n"
    }
   }
  },
  {
   "cell_type": "markdown",
   "source": [
    "Задание 5 (метод локтя)"
   ],
   "metadata": {
    "collapsed": false,
    "pycharm": {
     "name": "#%% md\n"
    }
   }
  },
  {
   "cell_type": "code",
   "execution_count": 59,
   "outputs": [
    {
     "data": {
      "text/plain": "<Figure size 360x360 with 1 Axes>",
      "image/png": "[encoded data removed]"
     },
     "metadata": {},
     "output_type": "display_data"
    }
   ],
   "source": [
    "import seaborn as sns\n",
    "\n",
    "sns.set(style=\"whitegrid\")\n",
    "\n",
    "errors_elbow = []\n",
    "errors = []\n",
    "points = []\n",
    "for i in range(7):\n",
    "    errors = []\n",
    "    table_norm['centroid'], centroids =  k_means_medians(table_norm, i + 1, 'mean')\n",
    "    for j in range(table_norm.shape[0]):\n",
    "        err = (table_norm['x'][j] - centroids['x'][table_norm['centroid'][j]])**2 + (table_norm['y'][j] - centroids['y'][table_norm['centroid'][j]])**2\n",
    "        errors.append(err)\n",
    "    errors_elbow.append(round(sum(errors), 3))\n",
    "    points.append(i+1)\n",
    "sns.relplot(x=points, y=errors_elbow, kind=\"line\")\n",
    "plt.show()\n",
    "print('По графику видно, что оптимальное количество кластеров = 6')\n"
   ],
   "metadata": {
    "collapsed": false,
    "pycharm": {
     "name": "#%%\n"
    }
   }
  }
 ],
 "metadata": {
  "kernelspec": {
   "display_name": "Python 3",
   "language": "python",
   "name": "python3"
  },
  "language_info": {
   "codemirror_mode": {
    "name": "ipython",
    "version": 2
   },
   "file_extension": ".py",
   "mimetype": "text/x-python",
   "name": "python",
   "nbconvert_exporter": "python",
   "pygments_lexer": "ipython2",
   "version": "2.7.6"
  }
 },
 "nbformat": 4,
 "nbformat_minor": 0
}