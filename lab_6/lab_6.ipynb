{
 "cells": [
  {
   "cell_type": "code",
   "execution_count": 201,
   "metadata": {
    "collapsed": true,
    "pycharm": {
     "name": "#%%\n"
    }
   },
   "outputs": [
    {
     "data": {
      "text/plain": "                                           Product  Weight  Price_euros\n0              17-Y002nv (A10-9600P/6GB/2TB/Radeon    2.65       569.00\n1                                IdeaPad 310-15ABR    2.40       499.00\n2                                         Aspire 5    2.20       579.00\n3             17-ak002nv (A10-9620P/6GB/2TB/Radeon    2.71       655.01\n4                 X555QG-DM242T (A10-9620P/4GB/1TB    2.20       575.00\n5           15-bw007nv (A10-9620P/6GB/128GB/Radeon    1.91       568.90\n6               15-ba043na (A12-9700P/8GB/2TB/W10)    2.04       629.00\n7             15-bw009nv (A12-9720P/6GB/1TB/Radeon    2.10       529.00\n8                                IdeaPad 320-15ABR    2.20       899.00\n9                                IdeaPad 110-17ACL    2.80       379.00\n10               110-15ACL (A6-7310/4GB/500GB/W10)    2.19       298.00\n11            15-bw011nv (A6-9220/4GB/1TB/FHD/W10)    2.10       398.00\n12            17-ak001nv (A6-9220/4GB/500GB/Radeon    2.71       439.00\n13                                          255 G6    1.86       398.49\n14                               IdeaPad 320-15AST    2.20       399.00\n15            15-bw002nv (A6-9220/4GB/256GB/Radeon    1.91       478.89\n16              15-BW094nd (A6-9220/8GB/128GB/W10)    1.91       445.90\n17                                  Aspire ES1-523    2.40       449.00\n18        ES1-523-84K7 (A8-7410/8GB/256GB/FHD/W10)    2.23       469.00\n19                             Pavilion 15-AW003nv    2.04       549.99\n20                                        Aspire 3    2.10       400.00\n21           X505BP-BR019T (A9-9420/4GB/1TB/Radeon    1.68       469.00\n22           X555BP-XX180T (A9-9420/4GB/1TB/Radeon    2.03       403.00\n23   15-bw003nv (A9-Series-9420/4GB/256GB/FHD/W10)    1.91       488.99\n24            15-BW004nv (A9-9420/4GB/256GB/Radeon    1.91       499.00\n25              15-BW037na (A9-9420/4GB/1TB/Radeon    2.10       489.00\n26                17-AK091ND (A9-9420/8GB/1TB/W10)    2.60       520.90\n27                     15-BW091ND (A9-9420/6GB/1TB    2.10       650.00\n28            15-cd005nv (A9-9420/6GB/256GB/Radeon    1.95       649.00\n29             E402WA-GA007T (E2-6110/4GB/64GB/W10    1.65       277.99\n30                          VivoBook X540YA-XX519T    2.00       349.00\n31              15-BA015wm (E2-7110/4GB/500GB/W10)    1.86       297.00\n32             15-rb013nv (E2-9000e/4GB/500GB/W10)    2.10       330.00\n33            E402WA-GA010T (E2-6110/2GB/32GB/W10)    1.65       199.00\n34           15-bw000nv (E2-9000e/4GB/500GB/Radeon    2.10       349.00\n35                              IdeaPad Y700-15ACZ    2.50       999.00\n36         FX550IK-DM018T (FX-9830P/8GB/1TB/Radeon    2.45       699.00\n37                                       Rog Strix    3.20      1695.00\n38                                   LapBook 15.6\"    1.89       244.99\n39                                 Vivobook E200HA    0.98       191.90\n40                                    Lapbook 15,6    1.89       248.90\n41                                   SmartBook 130    1.35       255.00\n42                                   SmartBook 140    1.40       239.00\n43                                   SmartBook 141    1.40       249.00\n44                V131 (X5-Z8350/4GB/32GB/FHD/W10)    1.35       196.00\n45                    V142 (X5-Z8350/2GB/32GB/W10)    1.45       210.80\n46                                       Yoga Book    0.69       319.00\n47                                   Smartbook 142    1.40       265.00\n48                C740-C9QX (3205U/2GB/32GB/Chrome    1.30       174.00\n49                                   Chromebook 15    2.20       209.00\n50                            Chromebook C910-C2ST    2.19       199.00\n51                         Chromebook CB5-571-C1DZ    2.20       359.00\n52                                   Chromebook 14    1.45       375.00\n53                                     ThinkPad 13    1.45       459.90\n54                V110-15ISK (3855U/4GB/500GB/W10)    2.10       318.00\n55                               TravelMate B117-M    1.40       269.00\n56             X553SA-XX021T (N3050/4GB/500GB/W10)    2.20       369.00\n57             X553SA-XX031T (N3050/4GB/500GB/W10)    2.20       369.00\n58                                   Inspiron 3552    2.20       379.00\n59                              IdeaPad 100S-14IBR    1.50       229.00\n60                                  Aspire ES1-531    2.40       289.00\n61                                   Chromebook 11    1.35       355.00\n62                            Chromebook C731-C78G    1.25       297.00\n63                           Chromebook C738T-C2EJ    1.25       389.00\n64                                    TravelMate B    1.40       435.00\n65                               Chromebook C202SA    1.20       287.90\n66                15-ra044nv (N3060/4GB/500GB/W10)    2.10       347.00\n67                                          250 G6    1.86       259.00\n68                                Stream 11-Y000na    1.17       209.00\n69                               Stream 14-AX000nv    1.44       249.00\n70                               Stream 14-AX001nv    1.44       279.00\n71                               Stream 14-AX040wm    1.44       229.00\n72                                  Chromebook N23    1.25       265.00\n73                       N23 (N3060/4GB/128GB/W10)    1.40       475.00\n74                                    Chromebook 3    1.15       269.00\n75                                  Aspire A315-31    2.10       348.00\n76            A541NA-GO342 (N3350/4GB/500GB/Linux)    2.00       224.00\n77             L403NA-GA013TS (N3350/4GB/32GB/W10)    1.50       278.00\n78             L502NA-GO052T (N3350/4GB/128GB/W10)    1.86       419.00\n79                R417NA-RS01 (N3350/4GB/32GB/W10)    1.63       299.00\n80                                    VivoBook E12    1.10       245.00\n81                                 VivoBook E201NA    1.20       340.00\n82                                 VivoBook E403NA    1.50       286.00\n83                                   VivoBook Flip    1.10       275.00\n84                                 VivoBook L402NA    1.65       348.00\n85                  X541NA (N3350/4GB/1TB/FHD/W10)    2.00       344.00\n86                    X541NA (N3350/4GB/1TB/Linux)    2.00       274.99\n87               X541NA-GO020T (N3350/4GB/1TB/W10)    2.00       339.00\n88               X541NA-GO414T (N3350/8GB/1TB/W10)    2.00       399.00\n89                                 Chromebook X360    1.40       495.00\n90                              IdeaPad 120S-14IAP    1.44       249.00\n91                               IdeaPad 320-14IAP    2.10       299.00\n92                               IdeaPad 320-15IAP    2.20       321.99\n93                               Ideapad 320-15IAP    2.20       419.00\n94                                  Lenovo IdeaPad    1.15       304.45\n95                  V110-15IAP (N3350/4GB/128GB/No    1.90       270.62\n96                    V110-15IAP (N3350/4GB/1TB/No    1.90       252.36\n97                                   FlexBook Edge    1.16       299.00\n98                       K146 (N3350/4GB/32GB/W10)    1.22       202.90\n99                   K147 (N3350/4GB/32GB/FHD/W10)    1.30       260.00\n100                                  Spin SP111-31    1.25       349.00\n101           CB5-132T-C9KK (N3160/4GB/32GB/Chrome    1.25       379.00\n102                              N42-20 Chromebook    1.50       325.00\n103                                       Aspire 1    1.60       329.00\n104                                   LapBook 12.3    1.40       449.00\n105                                       Yoga 11e    1.59       553.00\n106                                 SmartBook Edge    1.20       369.00\n107                              IdeaPad 110-15IBR    2.20       329.00\n108                                 Aspire E5-774G    3.30       629.00\n109                                 Aspire ES1-572    2.40       361.80\n110                                  Inspiron 3567    2.25       428.00\n111                                  Inspiron 5567    2.30       499.00",
      "text/html": "<div>\n<style scoped>\n    .dataframe tbody tr th:only-of-type {\n        vertical-align: middle;\n    }\n\n    .dataframe tbody tr th {\n        vertical-align: top;\n    }\n\n    .dataframe thead th {\n        text-align: right;\n    }\n</style>\n<table border=\"1\" class=\"dataframe\">\n  <thead>\n    <tr style=\"text-align: right;\">\n      <th></th>\n      <th>Product</th>\n      <th>Weight</th>\n      <th>Price_euros</th>\n    </tr>\n  </thead>\n  <tbody>\n    <tr>\n      <th>0</th>\n      <td>17-Y002nv (A10-9600P/6GB/2TB/Radeon</td>\n      <td>2.65</td>\n      <td>569.00</td>\n    </tr>\n    <tr>\n      <th>1</th>\n      <td>IdeaPad 310-15ABR</td>\n      <td>2.40</td>\n      <td>499.00</td>\n    </tr>\n    <tr>\n      <th>2</th>\n      <td>Aspire 5</td>\n      <td>2.20</td>\n      <td>579.00</td>\n    </tr>\n    <tr>\n      <th>3</th>\n      <td>17-ak002nv (A10-9620P/6GB/2TB/Radeon</td>\n      <td>2.71</td>\n      <td>655.01</td>\n    </tr>\n    <tr>\n      <th>4</th>\n      <td>X555QG-DM242T (A10-9620P/4GB/1TB</td>\n      <td>2.20</td>\n      <td>575.00</td>\n    </tr>\n    <tr>\n      <th>5</th>\n      <td>15-bw007nv (A10-9620P/6GB/128GB/Radeon</td>\n      <td>1.91</td>\n      <td>568.90</td>\n    </tr>\n    <tr>\n      <th>6</th>\n      <td>15-ba043na (A12-9700P/8GB/2TB/W10)</td>\n      <td>2.04</td>\n      <td>629.00</td>\n    </tr>\n    <tr>\n      <th>7</th>\n      <td>15-bw009nv (A12-9720P/6GB/1TB/Radeon</td>\n      <td>2.10</td>\n      <td>529.00</td>\n    </tr>\n    <tr>\n      <th>8</th>\n      <td>IdeaPad 320-15ABR</td>\n      <td>2.20</td>\n      <td>899.00</td>\n    </tr>\n    <tr>\n      <th>9</th>\n      <td>IdeaPad 110-17ACL</td>\n      <td>2.80</td>\n      <td>379.00</td>\n    </tr>\n    <tr>\n      <th>10</th>\n      <td>110-15ACL (A6-7310/4GB/500GB/W10)</td>\n      <td>2.19</td>\n      <td>298.00</td>\n    </tr>\n    <tr>\n      <th>11</th>\n      <td>15-bw011nv (A6-9220/4GB/1TB/FHD/W10)</td>\n      <td>2.10</td>\n      <td>398.00</td>\n    </tr>\n    <tr>\n      <th>12</th>\n      <td>17-ak001nv (A6-9220/4GB/500GB/Radeon</td>\n      <td>2.71</td>\n      <td>439.00</td>\n    </tr>\n    <tr>\n      <th>13</th>\n      <td>255 G6</td>\n      <td>1.86</td>\n      <td>398.49</td>\n    </tr>\n    <tr>\n      <th>14</th>\n      <td>IdeaPad 320-15AST</td>\n      <td>2.20</td>\n      <td>399.00</td>\n    </tr>\n    <tr>\n      <th>15</th>\n      <td>15-bw002nv (A6-9220/4GB/256GB/Radeon</td>\n      <td>1.91</td>\n      <td>478.89</td>\n    </tr>\n    <tr>\n      <th>16</th>\n      <td>15-BW094nd (A6-9220/8GB/128GB/W10)</td>\n      <td>1.91</td>\n      <td>445.90</td>\n    </tr>\n    <tr>\n      <th>17</th>\n      <td>Aspire ES1-523</td>\n      <td>2.40</td>\n      <td>449.00</td>\n    </tr>\n    <tr>\n      <th>18</th>\n      <td>ES1-523-84K7 (A8-7410/8GB/256GB/FHD/W10)</td>\n      <td>2.23</td>\n      <td>469.00</td>\n    </tr>\n    <tr>\n      <th>19</th>\n      <td>Pavilion 15-AW003nv</td>\n      <td>2.04</td>\n      <td>549.99</td>\n    </tr>\n    <tr>\n      <th>20</th>\n      <td>Aspire 3</td>\n      <td>2.10</td>\n      <td>400.00</td>\n    </tr>\n    <tr>\n      <th>21</th>\n      <td>X505BP-BR019T (A9-9420/4GB/1TB/Radeon</td>\n      <td>1.68</td>\n      <td>469.00</td>\n    </tr>\n    <tr>\n      <th>22</th>\n      <td>X555BP-XX180T (A9-9420/4GB/1TB/Radeon</td>\n      <td>2.03</td>\n      <td>403.00</td>\n    </tr>\n    <tr>\n      <th>23</th>\n      <td>15-bw003nv (A9-Series-9420/4GB/256GB/FHD/W10)</td>\n      <td>1.91</td>\n      <td>488.99</td>\n    </tr>\n    <tr>\n      <th>24</th>\n      <td>15-BW004nv (A9-9420/4GB/256GB/Radeon</td>\n      <td>1.91</td>\n      <td>499.00</td>\n    </tr>\n    <tr>\n      <th>25</th>\n      <td>15-BW037na (A9-9420/4GB/1TB/Radeon</td>\n      <td>2.10</td>\n      <td>489.00</td>\n    </tr>\n    <tr>\n      <th>26</th>\n      <td>17-AK091ND (A9-9420/8GB/1TB/W10)</td>\n      <td>2.60</td>\n      <td>520.90</td>\n    </tr>\n    <tr>\n      <th>27</th>\n      <td>15-BW091ND (A9-9420/6GB/1TB</td>\n      <td>2.10</td>\n      <td>650.00</td>\n    </tr>\n    <tr>\n      <th>28</th>\n      <td>15-cd005nv (A9-9420/6GB/256GB/Radeon</td>\n      <td>1.95</td>\n      <td>649.00</td>\n    </tr>\n    <tr>\n      <th>29</th>\n      <td>E402WA-GA007T (E2-6110/4GB/64GB/W10</td>\n      <td>1.65</td>\n      <td>277.99</td>\n    </tr>\n    <tr>\n      <th>30</th>\n      <td>VivoBook X540YA-XX519T</td>\n      <td>2.00</td>\n      <td>349.00</td>\n    </tr>\n    <tr>\n      <th>31</th>\n      <td>15-BA015wm (E2-7110/4GB/500GB/W10)</td>\n      <td>1.86</td>\n      <td>297.00</td>\n    </tr>\n    <tr>\n      <th>32</th>\n      <td>15-rb013nv (E2-9000e/4GB/500GB/W10)</td>\n      <td>2.10</td>\n      <td>330.00</td>\n    </tr>\n    <tr>\n      <th>33</th>\n      <td>E402WA-GA010T (E2-6110/2GB/32GB/W10)</td>\n      <td>1.65</td>\n      <td>199.00</td>\n    </tr>\n    <tr>\n      <th>34</th>\n      <td>15-bw000nv (E2-9000e/4GB/500GB/Radeon</td>\n      <td>2.10</td>\n      <td>349.00</td>\n    </tr>\n    <tr>\n      <th>35</th>\n      <td>IdeaPad Y700-15ACZ</td>\n      <td>2.50</td>\n      <td>999.00</td>\n    </tr>\n    <tr>\n      <th>36</th>\n      <td>FX550IK-DM018T (FX-9830P/8GB/1TB/Radeon</td>\n      <td>2.45</td>\n      <td>699.00</td>\n    </tr>\n    <tr>\n      <th>37</th>\n      <td>Rog Strix</td>\n      <td>3.20</td>\n      <td>1695.00</td>\n    </tr>\n    <tr>\n      <th>38</th>\n      <td>LapBook 15.6\"</td>\n      <td>1.89</td>\n      <td>244.99</td>\n    </tr>\n    <tr>\n      <th>39</th>\n      <td>Vivobook E200HA</td>\n      <td>0.98</td>\n      <td>191.90</td>\n    </tr>\n    <tr>\n      <th>40</th>\n      <td>Lapbook 15,6</td>\n      <td>1.89</td>\n      <td>248.90</td>\n    </tr>\n    <tr>\n      <th>41</th>\n      <td>SmartBook 130</td>\n      <td>1.35</td>\n      <td>255.00</td>\n    </tr>\n    <tr>\n      <th>42</th>\n      <td>SmartBook 140</td>\n      <td>1.40</td>\n      <td>239.00</td>\n    </tr>\n    <tr>\n      <th>43</th>\n      <td>SmartBook 141</td>\n      <td>1.40</td>\n      <td>249.00</td>\n    </tr>\n    <tr>\n      <th>44</th>\n      <td>V131 (X5-Z8350/4GB/32GB/FHD/W10)</td>\n      <td>1.35</td>\n      <td>196.00</td>\n    </tr>\n    <tr>\n      <th>45</th>\n      <td>V142 (X5-Z8350/2GB/32GB/W10)</td>\n      <td>1.45</td>\n      <td>210.80</td>\n    </tr>\n    <tr>\n      <th>46</th>\n      <td>Yoga Book</td>\n      <td>0.69</td>\n      <td>319.00</td>\n    </tr>\n    <tr>\n      <th>47</th>\n      <td>Smartbook 142</td>\n      <td>1.40</td>\n      <td>265.00</td>\n    </tr>\n    <tr>\n      <th>48</th>\n      <td>C740-C9QX (3205U/2GB/32GB/Chrome</td>\n      <td>1.30</td>\n      <td>174.00</td>\n    </tr>\n    <tr>\n      <th>49</th>\n      <td>Chromebook 15</td>\n      <td>2.20</td>\n      <td>209.00</td>\n    </tr>\n    <tr>\n      <th>50</th>\n      <td>Chromebook C910-C2ST</td>\n      <td>2.19</td>\n      <td>199.00</td>\n    </tr>\n    <tr>\n      <th>51</th>\n      <td>Chromebook CB5-571-C1DZ</td>\n      <td>2.20</td>\n      <td>359.00</td>\n    </tr>\n    <tr>\n      <th>52</th>\n      <td>Chromebook 14</td>\n      <td>1.45</td>\n      <td>375.00</td>\n    </tr>\n    <tr>\n      <th>53</th>\n      <td>ThinkPad 13</td>\n      <td>1.45</td>\n      <td>459.90</td>\n    </tr>\n    <tr>\n      <th>54</th>\n      <td>V110-15ISK (3855U/4GB/500GB/W10)</td>\n      <td>2.10</td>\n      <td>318.00</td>\n    </tr>\n    <tr>\n      <th>55</th>\n      <td>TravelMate B117-M</td>\n      <td>1.40</td>\n      <td>269.00</td>\n    </tr>\n    <tr>\n      <th>56</th>\n      <td>X553SA-XX021T (N3050/4GB/500GB/W10)</td>\n      <td>2.20</td>\n      <td>369.00</td>\n    </tr>\n    <tr>\n      <th>57</th>\n      <td>X553SA-XX031T (N3050/4GB/500GB/W10)</td>\n      <td>2.20</td>\n      <td>369.00</td>\n    </tr>\n    <tr>\n      <th>58</th>\n      <td>Inspiron 3552</td>\n      <td>2.20</td>\n      <td>379.00</td>\n    </tr>\n    <tr>\n      <th>59</th>\n      <td>IdeaPad 100S-14IBR</td>\n      <td>1.50</td>\n      <td>229.00</td>\n    </tr>\n    <tr>\n      <th>60</th>\n      <td>Aspire ES1-531</td>\n      <td>2.40</td>\n      <td>289.00</td>\n    </tr>\n    <tr>\n      <th>61</th>\n      <td>Chromebook 11</td>\n      <td>1.35</td>\n      <td>355.00</td>\n    </tr>\n    <tr>\n      <th>62</th>\n      <td>Chromebook C731-C78G</td>\n      <td>1.25</td>\n      <td>297.00</td>\n    </tr>\n    <tr>\n      <th>63</th>\n      <td>Chromebook C738T-C2EJ</td>\n      <td>1.25</td>\n      <td>389.00</td>\n    </tr>\n    <tr>\n      <th>64</th>\n      <td>TravelMate B</td>\n      <td>1.40</td>\n      <td>435.00</td>\n    </tr>\n    <tr>\n      <th>65</th>\n      <td>Chromebook C202SA</td>\n      <td>1.20</td>\n      <td>287.90</td>\n    </tr>\n    <tr>\n      <th>66</th>\n      <td>15-ra044nv (N3060/4GB/500GB/W10)</td>\n      <td>2.10</td>\n      <td>347.00</td>\n    </tr>\n    <tr>\n      <th>67</th>\n      <td>250 G6</td>\n      <td>1.86</td>\n      <td>259.00</td>\n    </tr>\n    <tr>\n      <th>68</th>\n      <td>Stream 11-Y000na</td>\n      <td>1.17</td>\n      <td>209.00</td>\n    </tr>\n    <tr>\n      <th>69</th>\n      <td>Stream 14-AX000nv</td>\n      <td>1.44</td>\n      <td>249.00</td>\n    </tr>\n    <tr>\n      <th>70</th>\n      <td>Stream 14-AX001nv</td>\n      <td>1.44</td>\n      <td>279.00</td>\n    </tr>\n    <tr>\n      <th>71</th>\n      <td>Stream 14-AX040wm</td>\n      <td>1.44</td>\n      <td>229.00</td>\n    </tr>\n    <tr>\n      <th>72</th>\n      <td>Chromebook N23</td>\n      <td>1.25</td>\n      <td>265.00</td>\n    </tr>\n    <tr>\n      <th>73</th>\n      <td>N23 (N3060/4GB/128GB/W10)</td>\n      <td>1.40</td>\n      <td>475.00</td>\n    </tr>\n    <tr>\n      <th>74</th>\n      <td>Chromebook 3</td>\n      <td>1.15</td>\n      <td>269.00</td>\n    </tr>\n    <tr>\n      <th>75</th>\n      <td>Aspire A315-31</td>\n      <td>2.10</td>\n      <td>348.00</td>\n    </tr>\n    <tr>\n      <th>76</th>\n      <td>A541NA-GO342 (N3350/4GB/500GB/Linux)</td>\n      <td>2.00</td>\n      <td>224.00</td>\n    </tr>\n    <tr>\n      <th>77</th>\n      <td>L403NA-GA013TS (N3350/4GB/32GB/W10)</td>\n      <td>1.50</td>\n      <td>278.00</td>\n    </tr>\n    <tr>\n      <th>78</th>\n      <td>L502NA-GO052T (N3350/4GB/128GB/W10)</td>\n      <td>1.86</td>\n      <td>419.00</td>\n    </tr>\n    <tr>\n      <th>79</th>\n      <td>R417NA-RS01 (N3350/4GB/32GB/W10)</td>\n      <td>1.63</td>\n      <td>299.00</td>\n    </tr>\n    <tr>\n      <th>80</th>\n      <td>VivoBook E12</td>\n      <td>1.10</td>\n      <td>245.00</td>\n    </tr>\n    <tr>\n      <th>81</th>\n      <td>VivoBook E201NA</td>\n      <td>1.20</td>\n      <td>340.00</td>\n    </tr>\n    <tr>\n      <th>82</th>\n      <td>VivoBook E403NA</td>\n      <td>1.50</td>\n      <td>286.00</td>\n    </tr>\n    <tr>\n      <th>83</th>\n      <td>VivoBook Flip</td>\n      <td>1.10</td>\n      <td>275.00</td>\n    </tr>\n    <tr>\n      <th>84</th>\n      <td>VivoBook L402NA</td>\n      <td>1.65</td>\n      <td>348.00</td>\n    </tr>\n    <tr>\n      <th>85</th>\n      <td>X541NA (N3350/4GB/1TB/FHD/W10)</td>\n      <td>2.00</td>\n      <td>344.00</td>\n    </tr>\n    <tr>\n      <th>86</th>\n      <td>X541NA (N3350/4GB/1TB/Linux)</td>\n      <td>2.00</td>\n      <td>274.99</td>\n    </tr>\n    <tr>\n      <th>87</th>\n      <td>X541NA-GO020T (N3350/4GB/1TB/W10)</td>\n      <td>2.00</td>\n      <td>339.00</td>\n    </tr>\n    <tr>\n      <th>88</th>\n      <td>X541NA-GO414T (N3350/8GB/1TB/W10)</td>\n      <td>2.00</td>\n      <td>399.00</td>\n    </tr>\n    <tr>\n      <th>89</th>\n      <td>Chromebook X360</td>\n      <td>1.40</td>\n      <td>495.00</td>\n    </tr>\n    <tr>\n      <th>90</th>\n      <td>IdeaPad 120S-14IAP</td>\n      <td>1.44</td>\n      <td>249.00</td>\n    </tr>\n    <tr>\n      <th>91</th>\n      <td>IdeaPad 320-14IAP</td>\n      <td>2.10</td>\n      <td>299.00</td>\n    </tr>\n    <tr>\n      <th>92</th>\n      <td>IdeaPad 320-15IAP</td>\n      <td>2.20</td>\n      <td>321.99</td>\n    </tr>\n    <tr>\n      <th>93</th>\n      <td>Ideapad 320-15IAP</td>\n      <td>2.20</td>\n      <td>419.00</td>\n    </tr>\n    <tr>\n      <th>94</th>\n      <td>Lenovo IdeaPad</td>\n      <td>1.15</td>\n      <td>304.45</td>\n    </tr>\n    <tr>\n      <th>95</th>\n      <td>V110-15IAP (N3350/4GB/128GB/No</td>\n      <td>1.90</td>\n      <td>270.62</td>\n    </tr>\n    <tr>\n      <th>96</th>\n      <td>V110-15IAP (N3350/4GB/1TB/No</td>\n      <td>1.90</td>\n      <td>252.36</td>\n    </tr>\n    <tr>\n      <th>97</th>\n      <td>FlexBook Edge</td>\n      <td>1.16</td>\n      <td>299.00</td>\n    </tr>\n    <tr>\n      <th>98</th>\n      <td>K146 (N3350/4GB/32GB/W10)</td>\n      <td>1.22</td>\n      <td>202.90</td>\n    </tr>\n    <tr>\n      <th>99</th>\n      <td>K147 (N3350/4GB/32GB/FHD/W10)</td>\n      <td>1.30</td>\n      <td>260.00</td>\n    </tr>\n    <tr>\n      <th>100</th>\n      <td>Spin SP111-31</td>\n      <td>1.25</td>\n      <td>349.00</td>\n    </tr>\n    <tr>\n      <th>101</th>\n      <td>CB5-132T-C9KK (N3160/4GB/32GB/Chrome</td>\n      <td>1.25</td>\n      <td>379.00</td>\n    </tr>\n    <tr>\n      <th>102</th>\n      <td>N42-20 Chromebook</td>\n      <td>1.50</td>\n      <td>325.00</td>\n    </tr>\n    <tr>\n      <th>103</th>\n      <td>Aspire 1</td>\n      <td>1.60</td>\n      <td>329.00</td>\n    </tr>\n    <tr>\n      <th>104</th>\n      <td>LapBook 12.3</td>\n      <td>1.40</td>\n      <td>449.00</td>\n    </tr>\n    <tr>\n      <th>105</th>\n      <td>Yoga 11e</td>\n      <td>1.59</td>\n      <td>553.00</td>\n    </tr>\n    <tr>\n      <th>106</th>\n      <td>SmartBook Edge</td>\n      <td>1.20</td>\n      <td>369.00</td>\n    </tr>\n    <tr>\n      <th>107</th>\n      <td>IdeaPad 110-15IBR</td>\n      <td>2.20</td>\n      <td>329.00</td>\n    </tr>\n    <tr>\n      <th>108</th>\n      <td>Aspire E5-774G</td>\n      <td>3.30</td>\n      <td>629.00</td>\n    </tr>\n    <tr>\n      <th>109</th>\n      <td>Aspire ES1-572</td>\n      <td>2.40</td>\n      <td>361.80</td>\n    </tr>\n    <tr>\n      <th>110</th>\n      <td>Inspiron 3567</td>\n      <td>2.25</td>\n      <td>428.00</td>\n    </tr>\n    <tr>\n      <th>111</th>\n      <td>Inspiron 5567</td>\n      <td>2.30</td>\n      <td>499.00</td>\n    </tr>\n  </tbody>\n</table>\n</div>"
     },
     "execution_count": 201,
     "metadata": {},
     "output_type": "execute_result"
    }
   ],
   "source": [
    "import pandas as pd\n",
    "import numpy as np\n",
    "import matplotlib.pyplot as plt\n",
    "table = pd.read_csv(\"laptop_price.csv\",delimiter=',')\n",
    "table\n",
    "\n"
   ]
  },
  {
   "cell_type": "code",
   "execution_count": 201,
   "outputs": [],
   "source": [],
   "metadata": {
    "collapsed": false,
    "pycharm": {
     "name": "#%%table = pd.read_csv(\"laptop_price.csv\",delimiter=',')\n"
    }
   }
  },
  {
   "cell_type": "code",
   "execution_count": 201,
   "outputs": [],
   "source": [],
   "metadata": {
    "collapsed": false,
    "pycharm": {
     "name": "#%%\n"
    }
   }
  },
  {
   "cell_type": "markdown",
   "source": [
    "Задание 1"
   ],
   "metadata": {
    "collapsed": false
   }
  },
  {
   "cell_type": "code",
   "execution_count": 202,
   "outputs": [
    {
     "name": "stdout",
     "output_type": "stream",
     "text": [
      "данные из 4 работы:\n",
      "выборочное среднее для Weight(или x):  1.839\n",
      "выборочное среднее для Price_euros(или y):  387.198\n",
      "выборочное ско для Weight(или x):  0.62\n",
      "выборочное ско для Price_euros(или y):  204.565\n",
      "---------\n",
      "нормализация: \n"
     ]
    },
    {
     "data": {
      "text/plain": "            x         y\n0    1.308065  0.888725\n1    0.904839  0.546535\n2    0.582258  0.937609\n3    1.404839  1.309178\n4    0.582258  0.918055\n5    0.114516  0.888236\n6    0.324194  1.182030\n7    0.420968  0.693188\n8    0.582258  2.501904\n9    1.550000 -0.040075\n10   0.566129 -0.436037\n11   0.420968  0.052805\n12   1.404839  0.253230\n13   0.033871  0.055200\n14   0.582258  0.057693\n15   0.114516  0.448229\n16   0.114516  0.286960\n17   0.904839  0.302114\n18   0.630645  0.399883\n19   0.324194  0.795796\n20   0.420968  0.062582\n21  -0.256452  0.399883\n22   0.308065  0.077247\n23   0.114516  0.497602\n24   0.114516  0.546535\n25   0.420968  0.497651\n26   1.227419  0.653592\n27   0.420968  1.284687\n28   0.179032  1.279799\n29  -0.304839 -0.533855\n30   0.259677 -0.186728\n31   0.033871 -0.440926\n32   0.420968 -0.279608\n33  -0.304839 -0.919991\n34   0.420968 -0.186728\n35   1.066129  2.990746\n36   0.985484  1.524220\n37   2.195161  6.393088\n38   0.082258 -0.695173\n39  -1.385484 -0.954699\n40   0.082258 -0.676059\n41  -0.788710 -0.646240\n42  -0.708065 -0.724454\n43  -0.708065 -0.675570\n44  -0.788710 -0.934656\n45  -0.627419 -0.862308\n46  -1.853226 -0.333381\n47  -0.708065 -0.597355\n48  -0.869355 -1.042202\n49   0.582258 -0.871107\n50   0.566129 -0.919991\n51   0.582258 -0.137844\n52  -0.627419 -0.059629\n53  -0.627419  0.355398\n54   0.420968 -0.338269\n55  -0.708065 -0.577802\n56   0.582258 -0.088959\n57   0.582258 -0.088959\n58   0.582258 -0.040075\n59  -0.546774 -0.773339\n60   0.904839 -0.480033\n61  -0.788710 -0.157397\n62  -0.950000 -0.440926\n63  -0.950000  0.008809\n64  -0.708065  0.233676\n65  -1.030645 -0.485411\n66   0.420968 -0.196505\n67   0.033871 -0.626686\n68  -1.079032 -0.871107\n69  -0.643548 -0.675570\n70  -0.643548 -0.528917\n71  -0.643548 -0.773339\n72  -0.950000 -0.597355\n73  -0.708065  0.429213\n74  -1.111290 -0.577802\n75   0.420968 -0.191616\n76   0.259677 -0.797781\n77  -0.546774 -0.533806\n78   0.033871  0.155462\n79  -0.337097 -0.431149\n80  -1.191935 -0.695124\n81  -1.030645 -0.230724\n82  -0.546774 -0.494699\n83  -1.191935 -0.548471\n84  -0.304839 -0.191616\n85   0.259677 -0.211170\n86   0.259677 -0.548520\n87   0.259677 -0.235612\n88   0.259677  0.057693\n89  -0.708065  0.526982\n90  -0.643548 -0.675570\n91   0.420968 -0.431149\n92   0.582258 -0.318764\n93   0.582258  0.155462\n94  -1.111290 -0.404507\n95   0.098387 -0.569882\n96   0.098387 -0.659145\n97  -1.095161 -0.431149\n98  -0.998387 -0.900926\n99  -0.869355 -0.621797\n100 -0.950000 -0.186728\n101 -0.950000 -0.040075\n102 -0.546774 -0.304050\n103 -0.385484 -0.284496\n104 -0.708065  0.302114\n105 -0.401613  0.810510\n106 -1.030645 -0.088959\n107  0.582258 -0.284496\n108  2.356452  1.182030\n109  0.904839 -0.124156\n110  0.662903  0.199457\n111  0.743548  0.546535",
      "text/html": "<div>\n<style scoped>\n    .dataframe tbody tr th:only-of-type {\n        vertical-align: middle;\n    }\n\n    .dataframe tbody tr th {\n        vertical-align: top;\n    }\n\n    .dataframe thead th {\n        text-align: right;\n    }\n</style>\n<table border=\"1\" class=\"dataframe\">\n  <thead>\n    <tr style=\"text-align: right;\">\n      <th></th>\n      <th>x</th>\n      <th>y</th>\n    </tr>\n  </thead>\n  <tbody>\n    <tr>\n      <th>0</th>\n      <td>1.308065</td>\n      <td>0.888725</td>\n    </tr>\n    <tr>\n      <th>1</th>\n      <td>0.904839</td>\n      <td>0.546535</td>\n    </tr>\n    <tr>\n      <th>2</th>\n      <td>0.582258</td>\n      <td>0.937609</td>\n    </tr>\n    <tr>\n      <th>3</th>\n      <td>1.404839</td>\n      <td>1.309178</td>\n    </tr>\n    <tr>\n      <th>4</th>\n      <td>0.582258</td>\n      <td>0.918055</td>\n    </tr>\n    <tr>\n      <th>5</th>\n      <td>0.114516</td>\n      <td>0.888236</td>\n    </tr>\n    <tr>\n      <th>6</th>\n      <td>0.324194</td>\n      <td>1.182030</td>\n    </tr>\n    <tr>\n      <th>7</th>\n      <td>0.420968</td>\n      <td>0.693188</td>\n    </tr>\n    <tr>\n      <th>8</th>\n      <td>0.582258</td>\n      <td>2.501904</td>\n    </tr>\n    <tr>\n      <th>9</th>\n      <td>1.550000</td>\n      <td>-0.040075</td>\n    </tr>\n    <tr>\n      <th>10</th>\n      <td>0.566129</td>\n      <td>-0.436037</td>\n    </tr>\n    <tr>\n      <th>11</th>\n      <td>0.420968</td>\n      <td>0.052805</td>\n    </tr>\n    <tr>\n      <th>12</th>\n      <td>1.404839</td>\n      <td>0.253230</td>\n    </tr>\n    <tr>\n      <th>13</th>\n      <td>0.033871</td>\n      <td>0.055200</td>\n    </tr>\n    <tr>\n      <th>14</th>\n      <td>0.582258</td>\n      <td>0.057693</td>\n    </tr>\n    <tr>\n      <th>15</th>\n      <td>0.114516</td>\n      <td>0.448229</td>\n    </tr>\n    <tr>\n      <th>16</th>\n      <td>0.114516</td>\n      <td>0.286960</td>\n    </tr>\n    <tr>\n      <th>17</th>\n      <td>0.904839</td>\n      <td>0.302114</td>\n    </tr>\n    <tr>\n      <th>18</th>\n      <td>0.630645</td>\n      <td>0.399883</td>\n    </tr>\n    <tr>\n      <th>19</th>\n      <td>0.324194</td>\n      <td>0.795796</td>\n    </tr>\n    <tr>\n      <th>20</th>\n      <td>0.420968</td>\n      <td>0.062582</td>\n    </tr>\n    <tr>\n      <th>21</th>\n      <td>-0.256452</td>\n      <td>0.399883</td>\n    </tr>\n    <tr>\n      <th>22</th>\n      <td>0.308065</td>\n      <td>0.077247</td>\n    </tr>\n    <tr>\n      <th>23</th>\n      <td>0.114516</td>\n      <td>0.497602</td>\n    </tr>\n    <tr>\n      <th>24</th>\n      <td>0.114516</td>\n      <td>0.546535</td>\n    </tr>\n    <tr>\n      <th>25</th>\n      <td>0.420968</td>\n      <td>0.497651</td>\n    </tr>\n    <tr>\n      <th>26</th>\n      <td>1.227419</td>\n      <td>0.653592</td>\n    </tr>\n    <tr>\n      <th>27</th>\n      <td>0.420968</td>\n      <td>1.284687</td>\n    </tr>\n    <tr>\n      <th>28</th>\n      <td>0.179032</td>\n      <td>1.279799</td>\n    </tr>\n    <tr>\n      <th>29</th>\n      <td>-0.304839</td>\n      <td>-0.533855</td>\n    </tr>\n    <tr>\n      <th>30</th>\n      <td>0.259677</td>\n      <td>-0.186728</td>\n    </tr>\n    <tr>\n      <th>31</th>\n      <td>0.033871</td>\n      <td>-0.440926</td>\n    </tr>\n    <tr>\n      <th>32</th>\n      <td>0.420968</td>\n      <td>-0.279608</td>\n    </tr>\n    <tr>\n      <th>33</th>\n      <td>-0.304839</td>\n      <td>-0.919991</td>\n    </tr>\n    <tr>\n      <th>34</th>\n      <td>0.420968</td>\n      <td>-0.186728</td>\n    </tr>\n    <tr>\n      <th>35</th>\n      <td>1.066129</td>\n      <td>2.990746</td>\n    </tr>\n    <tr>\n      <th>36</th>\n      <td>0.985484</td>\n      <td>1.524220</td>\n    </tr>\n    <tr>\n      <th>37</th>\n      <td>2.195161</td>\n      <td>6.393088</td>\n    </tr>\n    <tr>\n      <th>38</th>\n      <td>0.082258</td>\n      <td>-0.695173</td>\n    </tr>\n    <tr>\n      <th>39</th>\n      <td>-1.385484</td>\n      <td>-0.954699</td>\n    </tr>\n    <tr>\n      <th>40</th>\n      <td>0.082258</td>\n      <td>-0.676059</td>\n    </tr>\n    <tr>\n      <th>41</th>\n      <td>-0.788710</td>\n      <td>-0.646240</td>\n    </tr>\n    <tr>\n      <th>42</th>\n      <td>-0.708065</td>\n      <td>-0.724454</td>\n    </tr>\n    <tr>\n      <th>43</th>\n      <td>-0.708065</td>\n      <td>-0.675570</td>\n    </tr>\n    <tr>\n      <th>44</th>\n      <td>-0.788710</td>\n      <td>-0.934656</td>\n    </tr>\n    <tr>\n      <th>45</th>\n      <td>-0.627419</td>\n      <td>-0.862308</td>\n    </tr>\n    <tr>\n      <th>46</th>\n      <td>-1.853226</td>\n      <td>-0.333381</td>\n    </tr>\n    <tr>\n      <th>47</th>\n      <td>-0.708065</td>\n      <td>-0.597355</td>\n    </tr>\n    <tr>\n      <th>48</th>\n      <td>-0.869355</td>\n      <td>-1.042202</td>\n    </tr>\n    <tr>\n      <th>49</th>\n      <td>0.582258</td>\n      <td>-0.871107</td>\n    </tr>\n    <tr>\n      <th>50</th>\n      <td>0.566129</td>\n      <td>-0.919991</td>\n    </tr>\n    <tr>\n      <th>51</th>\n      <td>0.582258</td>\n      <td>-0.137844</td>\n    </tr>\n    <tr>\n      <th>52</th>\n      <td>-0.627419</td>\n      <td>-0.059629</td>\n    </tr>\n    <tr>\n      <th>53</th>\n      <td>-0.627419</td>\n      <td>0.355398</td>\n    </tr>\n    <tr>\n      <th>54</th>\n      <td>0.420968</td>\n      <td>-0.338269</td>\n    </tr>\n    <tr>\n      <th>55</th>\n      <td>-0.708065</td>\n      <td>-0.577802</td>\n    </tr>\n    <tr>\n      <th>56</th>\n      <td>0.582258</td>\n      <td>-0.088959</td>\n    </tr>\n    <tr>\n      <th>57</th>\n      <td>0.582258</td>\n      <td>-0.088959</td>\n    </tr>\n    <tr>\n      <th>58</th>\n      <td>0.582258</td>\n      <td>-0.040075</td>\n    </tr>\n    <tr>\n      <th>59</th>\n      <td>-0.546774</td>\n      <td>-0.773339</td>\n    </tr>\n    <tr>\n      <th>60</th>\n      <td>0.904839</td>\n      <td>-0.480033</td>\n    </tr>\n    <tr>\n      <th>61</th>\n      <td>-0.788710</td>\n      <td>-0.157397</td>\n    </tr>\n    <tr>\n      <th>62</th>\n      <td>-0.950000</td>\n      <td>-0.440926</td>\n    </tr>\n    <tr>\n      <th>63</th>\n      <td>-0.950000</td>\n      <td>0.008809</td>\n    </tr>\n    <tr>\n      <th>64</th>\n      <td>-0.708065</td>\n      <td>0.233676</td>\n    </tr>\n    <tr>\n      <th>65</th>\n      <td>-1.030645</td>\n      <td>-0.485411</td>\n    </tr>\n    <tr>\n      <th>66</th>\n      <td>0.420968</td>\n      <td>-0.196505</td>\n    </tr>\n    <tr>\n      <th>67</th>\n      <td>0.033871</td>\n      <td>-0.626686</td>\n    </tr>\n    <tr>\n      <th>68</th>\n      <td>-1.079032</td>\n      <td>-0.871107</td>\n    </tr>\n    <tr>\n      <th>69</th>\n      <td>-0.643548</td>\n      <td>-0.675570</td>\n    </tr>\n    <tr>\n      <th>70</th>\n      <td>-0.643548</td>\n      <td>-0.528917</td>\n    </tr>\n    <tr>\n      <th>71</th>\n      <td>-0.643548</td>\n      <td>-0.773339</td>\n    </tr>\n    <tr>\n      <th>72</th>\n      <td>-0.950000</td>\n      <td>-0.597355</td>\n    </tr>\n    <tr>\n      <th>73</th>\n      <td>-0.708065</td>\n      <td>0.429213</td>\n    </tr>\n    <tr>\n      <th>74</th>\n      <td>-1.111290</td>\n      <td>-0.577802</td>\n    </tr>\n    <tr>\n      <th>75</th>\n      <td>0.420968</td>\n      <td>-0.191616</td>\n    </tr>\n    <tr>\n      <th>76</th>\n      <td>0.259677</td>\n      <td>-0.797781</td>\n    </tr>\n    <tr>\n      <th>77</th>\n      <td>-0.546774</td>\n      <td>-0.533806</td>\n    </tr>\n    <tr>\n      <th>78</th>\n      <td>0.033871</td>\n      <td>0.155462</td>\n    </tr>\n    <tr>\n      <th>79</th>\n      <td>-0.337097</td>\n      <td>-0.431149</td>\n    </tr>\n    <tr>\n      <th>80</th>\n      <td>-1.191935</td>\n      <td>-0.695124</td>\n    </tr>\n    <tr>\n      <th>81</th>\n      <td>-1.030645</td>\n      <td>-0.230724</td>\n    </tr>\n    <tr>\n      <th>82</th>\n      <td>-0.546774</td>\n      <td>-0.494699</td>\n    </tr>\n    <tr>\n      <th>83</th>\n      <td>-1.191935</td>\n      <td>-0.548471</td>\n    </tr>\n    <tr>\n      <th>84</th>\n      <td>-0.304839</td>\n      <td>-0.191616</td>\n    </tr>\n    <tr>\n      <th>85</th>\n      <td>0.259677</td>\n      <td>-0.211170</td>\n    </tr>\n    <tr>\n      <th>86</th>\n      <td>0.259677</td>\n      <td>-0.548520</td>\n    </tr>\n    <tr>\n      <th>87</th>\n      <td>0.259677</td>\n      <td>-0.235612</td>\n    </tr>\n    <tr>\n      <th>88</th>\n      <td>0.259677</td>\n      <td>0.057693</td>\n    </tr>\n    <tr>\n      <th>89</th>\n      <td>-0.708065</td>\n      <td>0.526982</td>\n    </tr>\n    <tr>\n      <th>90</th>\n      <td>-0.643548</td>\n      <td>-0.675570</td>\n    </tr>\n    <tr>\n      <th>91</th>\n      <td>0.420968</td>\n      <td>-0.431149</td>\n    </tr>\n    <tr>\n      <th>92</th>\n      <td>0.582258</td>\n      <td>-0.318764</td>\n    </tr>\n    <tr>\n      <th>93</th>\n      <td>0.582258</td>\n      <td>0.155462</td>\n    </tr>\n    <tr>\n      <th>94</th>\n      <td>-1.111290</td>\n      <td>-0.404507</td>\n    </tr>\n    <tr>\n      <th>95</th>\n      <td>0.098387</td>\n      <td>-0.569882</td>\n    </tr>\n    <tr>\n      <th>96</th>\n      <td>0.098387</td>\n      <td>-0.659145</td>\n    </tr>\n    <tr>\n      <th>97</th>\n      <td>-1.095161</td>\n      <td>-0.431149</td>\n    </tr>\n    <tr>\n      <th>98</th>\n      <td>-0.998387</td>\n      <td>-0.900926</td>\n    </tr>\n    <tr>\n      <th>99</th>\n      <td>-0.869355</td>\n      <td>-0.621797</td>\n    </tr>\n    <tr>\n      <th>100</th>\n      <td>-0.950000</td>\n      <td>-0.186728</td>\n    </tr>\n    <tr>\n      <th>101</th>\n      <td>-0.950000</td>\n      <td>-0.040075</td>\n    </tr>\n    <tr>\n      <th>102</th>\n      <td>-0.546774</td>\n      <td>-0.304050</td>\n    </tr>\n    <tr>\n      <th>103</th>\n      <td>-0.385484</td>\n      <td>-0.284496</td>\n    </tr>\n    <tr>\n      <th>104</th>\n      <td>-0.708065</td>\n      <td>0.302114</td>\n    </tr>\n    <tr>\n      <th>105</th>\n      <td>-0.401613</td>\n      <td>0.810510</td>\n    </tr>\n    <tr>\n      <th>106</th>\n      <td>-1.030645</td>\n      <td>-0.088959</td>\n    </tr>\n    <tr>\n      <th>107</th>\n      <td>0.582258</td>\n      <td>-0.284496</td>\n    </tr>\n    <tr>\n      <th>108</th>\n      <td>2.356452</td>\n      <td>1.182030</td>\n    </tr>\n    <tr>\n      <th>109</th>\n      <td>0.904839</td>\n      <td>-0.124156</td>\n    </tr>\n    <tr>\n      <th>110</th>\n      <td>0.662903</td>\n      <td>0.199457</td>\n    </tr>\n    <tr>\n      <th>111</th>\n      <td>0.743548</td>\n      <td>0.546535</td>\n    </tr>\n  </tbody>\n</table>\n</div>"
     },
     "execution_count": 202,
     "metadata": {},
     "output_type": "execute_result"
    }
   ],
   "source": [
    "x_mid = 1.839\n",
    "y_mid = 387.198\n",
    "x_sko = 0.62\n",
    "y_sko = 204.565\n",
    "print('данные из 4 работы:')\n",
    "print('выборочное среднее для Weight(или x): ', x_mid)\n",
    "print('выборочное среднее для Price_euros(или y): ', y_mid)\n",
    "print('выборочное ско для Weight(или x): ', x_sko)\n",
    "print('выборочное ско для Price_euros(или y): ', y_sko)\n",
    "print('---------')\n",
    "x_norm = (table['Weight'] - x_mid)/ x_sko\n",
    "y_norm = (table['Price_euros'] - y_mid)/ y_sko\n",
    "print ('нормализация: ')\n",
    "table_norm = pd.DataFrame({'x': x_norm, 'y': y_norm})\n",
    "table_norm\n",
    "\n"
   ],
   "metadata": {
    "collapsed": false,
    "pycharm": {
     "name": "#%% print(\n"
    }
   }
  },
  {
   "cell_type": "code",
   "execution_count": 202,
   "outputs": [],
   "source": [],
   "metadata": {
    "collapsed": false,
    "pycharm": {
     "name": "#%%\n"
    }
   }
  },
  {
   "cell_type": "markdown",
   "source": [
    "Задание 2"
   ],
   "metadata": {
    "collapsed": false
   }
  },
  {
   "cell_type": "code",
   "execution_count": 203,
   "outputs": [
    {
     "name": "stdout",
     "output_type": "stream",
     "text": [
      "верхняя оценка количества кластеров: 7\n"
     ]
    }
   ],
   "source": [
    "n = len(table['Weight'])\n",
    "k_est = int(np.sqrt(n / 2)//1)\n",
    "print(f'верхняя оценка количества кластеров: {k_est}')"
   ],
   "metadata": {
    "collapsed": false,
    "pycharm": {
     "name": "#%%\n"
    }
   }
  },
  {
   "cell_type": "markdown",
   "source": [
    "Задание 3"
   ],
   "metadata": {
    "collapsed": false
   }
  },
  {
   "cell_type": "code",
   "execution_count": 204,
   "outputs": [
    {
     "name": "stdout",
     "output_type": "stream",
     "text": [
      "получившаяся таблица соответствия исходных точек центройдам:\n",
      "            x         y  centroid\n",
      "0    1.308065  0.888725         1\n",
      "1    0.904839  0.546535         1\n",
      "2    0.582258  0.937609         1\n",
      "3    1.404839  1.309178         1\n",
      "4    0.582258  0.918055         1\n",
      "5    0.114516  0.888236         1\n",
      "6    0.324194  1.182030         1\n",
      "7    0.420968  0.693188         1\n",
      "8    0.582258  2.501904         1\n",
      "9    1.550000 -0.040075         3\n",
      "10   0.566129 -0.436037         3\n",
      "11   0.420968  0.052805         3\n",
      "12   1.404839  0.253230         3\n",
      "13   0.033871  0.055200         3\n",
      "14   0.582258  0.057693         3\n",
      "15   0.114516  0.448229         3\n",
      "16   0.114516  0.286960         3\n",
      "17   0.904839  0.302114         3\n",
      "18   0.630645  0.399883         3\n",
      "19   0.324194  0.795796         1\n",
      "20   0.420968  0.062582         3\n",
      "21  -0.256452  0.399883         3\n",
      "22   0.308065  0.077247         3\n",
      "23   0.114516  0.497602         3\n",
      "24   0.114516  0.546535         3\n",
      "25   0.420968  0.497651         3\n",
      "26   1.227419  0.653592         1\n",
      "27   0.420968  1.284687         1\n",
      "28   0.179032  1.279799         1\n",
      "29  -0.304839 -0.533855         0\n",
      "30   0.259677 -0.186728         3\n",
      "31   0.033871 -0.440926         3\n",
      "32   0.420968 -0.279608         3\n",
      "33  -0.304839 -0.919991         0\n",
      "34   0.420968 -0.186728         3\n",
      "35   1.066129  2.990746         1\n",
      "36   0.985484  1.524220         1\n",
      "37   2.195161  6.393088         2\n",
      "38   0.082258 -0.695173         3\n",
      "39  -1.385484 -0.954699         0\n",
      "40   0.082258 -0.676059         3\n",
      "41  -0.788710 -0.646240         0\n",
      "42  -0.708065 -0.724454         0\n",
      "43  -0.708065 -0.675570         0\n",
      "44  -0.788710 -0.934656         0\n",
      "45  -0.627419 -0.862308         0\n",
      "46  -1.853226 -0.333381         0\n",
      "47  -0.708065 -0.597355         0\n",
      "48  -0.869355 -1.042202         0\n",
      "49   0.582258 -0.871107         3\n",
      "50   0.566129 -0.919991         3\n",
      "51   0.582258 -0.137844         3\n",
      "52  -0.627419 -0.059629         0\n",
      "53  -0.627419  0.355398         0\n",
      "54   0.420968 -0.338269         3\n",
      "55  -0.708065 -0.577802         0\n",
      "56   0.582258 -0.088959         3\n",
      "57   0.582258 -0.088959         3\n",
      "58   0.582258 -0.040075         3\n",
      "59  -0.546774 -0.773339         0\n",
      "60   0.904839 -0.480033         3\n",
      "61  -0.788710 -0.157397         0\n",
      "62  -0.950000 -0.440926         0\n",
      "63  -0.950000  0.008809         0\n",
      "64  -0.708065  0.233676         0\n",
      "65  -1.030645 -0.485411         0\n",
      "66   0.420968 -0.196505         3\n",
      "67   0.033871 -0.626686         3\n",
      "68  -1.079032 -0.871107         0\n",
      "69  -0.643548 -0.675570         0\n",
      "70  -0.643548 -0.528917         0\n",
      "71  -0.643548 -0.773339         0\n",
      "72  -0.950000 -0.597355         0\n",
      "73  -0.708065  0.429213         0\n",
      "74  -1.111290 -0.577802         0\n",
      "75   0.420968 -0.191616         3\n",
      "76   0.259677 -0.797781         3\n",
      "77  -0.546774 -0.533806         0\n",
      "78   0.033871  0.155462         3\n",
      "79  -0.337097 -0.431149         0\n",
      "80  -1.191935 -0.695124         0\n",
      "81  -1.030645 -0.230724         0\n",
      "82  -0.546774 -0.494699         0\n",
      "83  -1.191935 -0.548471         0\n",
      "84  -0.304839 -0.191616         0\n",
      "85   0.259677 -0.211170         3\n",
      "86   0.259677 -0.548520         3\n",
      "87   0.259677 -0.235612         3\n",
      "88   0.259677  0.057693         3\n",
      "89  -0.708065  0.526982         0\n",
      "90  -0.643548 -0.675570         0\n",
      "91   0.420968 -0.431149         3\n",
      "92   0.582258 -0.318764         3\n",
      "93   0.582258  0.155462         3\n",
      "94  -1.111290 -0.404507         0\n",
      "95   0.098387 -0.569882         3\n",
      "96   0.098387 -0.659145         3\n",
      "97  -1.095161 -0.431149         0\n",
      "98  -0.998387 -0.900926         0\n",
      "99  -0.869355 -0.621797         0\n",
      "100 -0.950000 -0.186728         0\n",
      "101 -0.950000 -0.040075         0\n",
      "102 -0.546774 -0.304050         0\n",
      "103 -0.385484 -0.284496         0\n",
      "104 -0.708065  0.302114         0\n",
      "105 -0.401613  0.810510         3\n",
      "106 -1.030645 -0.088959         0\n",
      "107  0.582258 -0.284496         3\n",
      "108  2.356452  1.182030         1\n",
      "109  0.904839 -0.124156         3\n",
      "110  0.662903  0.199457         3\n",
      "111  0.743548  0.546535         1\n"
     ]
    },
    {
     "data": {
      "text/plain": "<matplotlib.collections.PathCollection at 0x7f7182e3fa00>"
     },
     "execution_count": 204,
     "metadata": {},
     "output_type": "execute_result"
    },
    {
     "data": {
      "text/plain": "<Figure size 432x288 with 1 Axes>",
      "image/png": "[encoded data removed]"
     },
     "metadata": {
      "needs_background": "light"
     },
     "output_type": "display_data"
    }
   ],
   "source": [
    "\n",
    "\n",
    "\n",
    "\n",
    "def recalc_centr(data, centroids):\n",
    "    centroid_recalc = []\n",
    "    centroid_err = []\n",
    "    for i in range(data.shape[0]):\n",
    "        errors = np.array([])\n",
    "        for j in range(centroids.shape[0]):\n",
    "            error = calc_error(centroids.iloc[j, :2], data.iloc[i,:2])\n",
    "            errors = np.append(errors, error)\n",
    "        closest_centr =  np.where(errors == np.amin(errors))[0].tolist()[0]\n",
    "        centroid_error = np.amin(errors)\n",
    "        centroid_recalc.append(closest_centr)\n",
    "        centroid_err.append(centroid_error)\n",
    "    return centroid_recalc, centroid_err\n",
    "\n",
    "\n",
    "def calc_error(a,b):\n",
    "    return np.square(np.sum((a - b)**2))\n",
    "\n",
    "def init_centroids(k, data):\n",
    "    n_dims = data.shape[1]\n",
    "    centroid_min = data.min().min()\n",
    "    centroid_max = data.max().max()\n",
    "    centroids = []\n",
    "    for i in range(k):\n",
    "        centroid = np.random.uniform(centroid_min, centroid_max, n_dims)\n",
    "        centroids.append(centroid)\n",
    "    centroids = pd.DataFrame(centroids, columns = data.columns)\n",
    "    return centroids\n",
    "\n",
    "def k_means(data, k):\n",
    "    centroids = init_centroids(k, data)\n",
    "    error = []\n",
    "    isContinue = True\n",
    "    i = 0\n",
    "    while isContinue:\n",
    "        data['centroid'], iter_error = recalc_centr(data,centroids)\n",
    "        error.append(sum(iter_error))\n",
    "        centroids = data.groupby('centroid').agg('mean').reset_index(drop = True)\n",
    "        error = [round(x, 3) for x in error]\n",
    "        if len(error) >= 2:\n",
    "            if error[i] ==  error[i - 1]:\n",
    "               break\n",
    "        i += 1\n",
    "\n",
    "    data['centroid'], iter_error = recalc_centr(data,centroids)\n",
    "    centroids = data.groupby('centroid').agg('mean').reset_index(drop = True)\n",
    "    return data['centroid'], centroids\n",
    "\n",
    "table_norm['centroid'], centroids =  k_means(table_norm, k_est)\n",
    "pd.set_option('display.max_rows', None)\n",
    "print('получившаяся таблица соответствия исходных точек центройдам:')\n",
    "print(table_norm)\n",
    "colors = {0:'red', 1:'blue', 2:'green', 3: 'purple', 4: 'black', 5: 'beige', 6: 'magenta'}\n",
    "plt.scatter(table_norm.iloc[:,0], table_norm.iloc[:,1],  marker = 'o', c = table_norm['centroid'].apply(lambda x: colors[x]),  alpha = 0.5)\n",
    "plt.scatter(centroids.iloc[:,0], centroids.iloc[:,1],  marker = 'o', s = 200, c = centroids.index.map(lambda x: colors[x]) )"
   ],
   "metadata": {
    "collapsed": false,
    "pycharm": {
     "name": "#%%\n"
    }
   }
  }
 ],
 "metadata": {
  "kernelspec": {
   "display_name": "Python 3",
   "language": "python",
   "name": "python3"
  },
  "language_info": {
   "codemirror_mode": {
    "name": "ipython",
    "version": 2
   },
   "file_extension": ".py",
   "mimetype": "text/x-python",
   "name": "python",
   "nbconvert_exporter": "python",
   "pygments_lexer": "ipython2",
   "version": "2.7.6"
  }
 },
 "nbformat": 4,
 "nbformat_minor": 0
}