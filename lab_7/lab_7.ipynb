{
 "cells": [
  {
   "cell_type": "code",
   "execution_count": 1,
   "metadata": {
    "collapsed": true
   },
   "outputs": [],
   "source": [
    "import numpy as np\n",
    "import pandas as pd\n",
    "import matplotlib.pyplot as plt\n",
    "from random import randint"
   ]
  },
  {
   "cell_type": "markdown",
   "source": [
    "Задание 1"
   ],
   "metadata": {
    "collapsed": false,
    "pycharm": {
     "name": "#%% md\n"
    }
   }
  },
  {
   "cell_type": "code",
   "execution_count": 2,
   "outputs": [
    {
     "name": "stdout",
     "output_type": "stream",
     "text": [
      "нормализация: \n"
     ]
    },
    {
     "data": {
      "text/plain": "<Figure size 432x288 with 1 Axes>",
      "image/png": "[encoded data removed]"
     },
     "metadata": {
      "needs_background": "light"
     },
     "output_type": "display_data"
    }
   ],
   "source": [
    "table = pd.read_csv(\"laptop_price.csv\",delimiter=',')\n",
    "x_sko = 0.62\n",
    "y_sko = 204.565\n",
    "x_mid = 1.839\n",
    "y_mid = 387.198\n",
    "x_norm = (table['Weight'] - x_mid)/ x_sko\n",
    "y_norm = (table['Price_euros'] - y_mid)/ y_sko\n",
    "print ('нормализация: ')\n",
    "table_norm = pd.DataFrame({'x': x_norm, 'y': y_norm})\n",
    "table_norm_medians = table_norm.copy()\n",
    "plt.scatter(table_norm['x'], table_norm['y'])\n",
    "plt.show()"
   ],
   "metadata": {
    "collapsed": false,
    "pycharm": {
     "name": "#%%\n"
    }
   }
  },
  {
   "cell_type": "markdown",
   "source": [
    "Задние 2"
   ],
   "metadata": {
    "collapsed": false,
    "pycharm": {
     "name": "#%% md\n"
    }
   }
  },
  {
   "cell_type": "code",
   "execution_count": 31,
   "outputs": [
    {
     "name": "stdout",
     "output_type": "stream",
     "text": [
      "R_min = 0.005\n",
      "R_max = 8.174\n",
      "Возьмем произвольное R_min < R < R_max: Пусть R = 0.5 \n"
     ]
    },
    {
     "data": {
      "text/plain": "<Figure size 432x288 with 1 Axes>",
      "image/png": "[encoded data removed]"
     },
     "metadata": {
      "needs_background": "light"
     },
     "output_type": "display_data"
    },
    {
     "name": "stdout",
     "output_type": "stream",
     "text": [
      "На рисунке видно, что сгущения находятся от центра кластеров на расстояниях <= R, значит построено верно \n"
     ]
    }
   ],
   "source": [
    "import random\n",
    "\n",
    "\n",
    "def forel(points, radius, limit = 1e-1):\n",
    "    centroids = pd.DataFrame()\n",
    "    j = 0\n",
    "    centroids_data = pd.DataFrame()\n",
    "    while len(points) != 0:\n",
    "        current_point = get_random_point(points)\n",
    "        neighbors = get_neighbors(current_point, radius, points)\n",
    "        centroid = get_centroid(neighbors)\n",
    "        while np.linalg.norm(current_point - centroid) > limit:\n",
    "            current_point = centroid\n",
    "            neighbors = get_neighbors(current_point, radius, points)\n",
    "            centroid = get_centroid(neighbors)\n",
    "        points = remove_points(neighbors, points)\n",
    "        for i in range(len(neighbors)):\n",
    "                centroids_data = centroids_data.append({'x':neighbors[i][0], 'y':neighbors[i][1], 'centroid': j},ignore_index=\"True\")\n",
    "        j += 1\n",
    "        centroids = centroids.append({'x': current_point[0], 'y':current_point[1]}, ignore_index=\"True\")\n",
    "        centroids_data['centroid'] = centroids_data['centroid'].astype('int')\n",
    "    return centroids, centroids_data\n",
    "\n",
    "\n",
    "def get_neighbors(p, radius, points):\n",
    "    neighbors = [point for point in points if np.linalg.norm(p - point) < radius]\n",
    "    return np.array(neighbors)\n",
    "\n",
    "def get_length(a, b):\n",
    "    return np.linalg.norm(a - b)\n",
    "\n",
    "def get_centroid(points):\n",
    "    return np.array([np.mean(points[:, 0]), np.mean(points[:, 1])])\n",
    "\n",
    "\n",
    "def get_random_point(points):\n",
    "    random_index = np.random.choice(len(points), 1)[0]\n",
    "    return points[random_index]\n",
    "\n",
    "\n",
    "def remove_points(subset, points):\n",
    "    points = [p for p in points if p not in subset]\n",
    "    return points\n",
    "\n",
    "table_norm_arr = np.array(table_norm)\n",
    "r = []\n",
    "for i in range(len(table_norm_arr)):\n",
    "    for j in range(len(table_norm_arr)):\n",
    "        r_candidate = get_length(table_norm_arr[i], table_norm_arr[j])\n",
    "        if r_candidate != 0:\n",
    "            r.append(round(r_candidate, 3))\n",
    "r_real = np.unique(r)\n",
    "r_min = r_real.min()\n",
    "r_max = r_real.max()\n",
    "print(f'R_min = {r_min}')\n",
    "print(f'R_max = {r_max}')\n",
    "rad = 0.5\n",
    "print(f'Возьмем произвольное R_min < R < R_max: Пусть R = 0.5 ')\n",
    "centroids, centroids_data =  forel(table_norm_arr, 0.5)\n",
    "colors = []\n",
    "for i in range(20):\n",
    "    colors.append('#%06X' % randint(0, 0xFFFFFF))\n",
    "colors_dict = dict(zip(list(range(0, len(colors))), colors))\n",
    "plt.scatter(centroids_data.iloc[:,0], centroids_data.iloc[:,1],  marker = 'o', c = centroids_data['centroid'].apply(lambda x: colors_dict[x]),  alpha = 0.5)\n",
    "plt.scatter(centroids.iloc[:,0], centroids.iloc[:,1],  marker = 'o', s = 150, c = centroids.index.map(lambda x: colors_dict[x]) )\n",
    "plt.show()\n",
    "print('На рисунке видно, что сгущения находятся от центра кластеров на расстояниях <= R, значит построено верно ')\n",
    "\n",
    "\n",
    "\n"
   ],
   "metadata": {
    "collapsed": false,
    "pycharm": {
     "name": "#%%\n"
    }
   }
  }
 ],
 "metadata": {
  "kernelspec": {
   "display_name": "Python 3",
   "language": "python",
   "name": "python3"
  },
  "language_info": {
   "codemirror_mode": {
    "name": "ipython",
    "version": 2
   },
   "file_extension": ".py",
   "mimetype": "text/x-python",
   "name": "python",
   "nbconvert_exporter": "python",
   "pygments_lexer": "ipython2",
   "version": "2.7.6"
  }
 },
 "nbformat": 4,
 "nbformat_minor": 0
}