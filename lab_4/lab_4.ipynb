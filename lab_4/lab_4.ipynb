{
 "cells": [
  {
   "cell_type": "markdown",
   "metadata": {},
   "source": [
    "# Практическая работа №4\n",
    "\n",
    "Выполнил студент гр. 9372 Чернышев Андрей"
   ]
  },
  {
   "cell_type": "markdown",
   "metadata": {},
   "source": [
    "## Цель работы\n",
    "Освоение основных понятий, связанных с корреляционной зависимостью\n",
    "между случайными величинами, статистическими гипотезами и проверкой их «справедливости»."
   ]
  },
  {
   "cell_type": "markdown",
   "metadata": {},
   "source": [
    "## Основные теоретические положения\n",
    "1. Теоретические сведения для выполнения практических работ №1 и №2.\n",
    "2. Для корреляционной таблицы:\n",
    " * $$m_{x_i} = \\sum_{j=1}^{k_y}m_{x_i y_j}$$ - частота появления варианты $$x_i$$\n",
    " * $$m_{y_j} = \\sum_{i=1}^{k_x}m_{x_i y_j}$$ - частота появления варианты $y_j$\n",
    " * $$\\sum_{i=1}^{k_x} m_{x_i} = \\sum_{j=1}^{k_y} m_{y_j} = n$$\n",
    "3. Статистическая оценка корреляционного момента:\n",
    " $$\\mu_{xy} =\\overline{xy} - \\overline{x} - \\overline{y}$$\n",
    "4. Коэффициент корреляции: $$r = \\frac{\\mu_{xy}}{s_x s_y} $$\n",
    "5. Преобразование Фишера: $$z=0.5 \\ln(\\frac{1+r}{1-r})$$\n",
    "6. Стандартная ошибка среднего для преобразованного z: $$SE = \\frac{1}{\\sqrt{n-3}}$$\n",
    "7. Формулы для определения границ доверительного интервала коэффициента корреляции:\n",
    " * $$z_u = z \\mp z_{1- \\alpha/2}*SE$$\n",
    " * $$z_{1- \\alpha/2} = t(1- \\gamma; df = \\infty)$$ - табличные данные"
   ]
  },
  {
   "cell_type": "markdown",
   "metadata": {},
   "source": [
    "## Постановка задачи\n",
    "Из заданной генеральной совокупности сформировать выборку по второму признаку.\n",
    "Провести статистическую обработку второй выборки в\n",
    "объеме практических работ №1 и №2, с целью определения точечных\n",
    "статистических оценок параметров распределения исследуемого признака\n",
    " (математического ожидания, дисперсии, среднеквадратичного отклонения, асимметрии и эксцесса). Для системы двух случайных величин\n",
    "𝑋 (первый признак) и 𝑌 (второй признак) сформировать двумерную\n",
    "выборку и найти статистическую оценку коэффициента корреляции,\n",
    "построить доверительный интервал для коэффициента корреляции и\n",
    "осуществить проверку статистической гипотезы о равенстве коэффициента\n",
    "корреляции нулю. Полученные результаты содержательно проинтерпретировать."
   ]
  },
  {
   "cell_type": "markdown",
   "metadata": {},
   "source": [
    "## Порядок выполнения работы\n",
    "1. Провести статистическую обработку второй выборки в объеме\n",
    "практических работ №1 и №2, с целью определения точечных статистических оценок параметров распределения исследуемого признака\n",
    "(математического ожидания, дисперсии, среднеквадратичного отклонения, асимметрии, эксцесса, моды, медианы и коэффициента\n",
    "вариации)\n",
    "2. Построить двумерный интервальный вариационный ряд, оформить\n",
    "в виде таблицы.\n",
    "3. По полученному двумерному интервальному вариационному ряду\n",
    "построить корреляционную таблицу\n",
    "4. Исходя из результатов корреляционной таблицы вычислить статистическую оценку корреляционного момента.\n",
    "5. Вычислить коэффициент корреляции\n",
    "6. Построить доверительный интервал для коэффициента корреляции при уровне значимости 𝛾 ∈ {0.95, 0.99}\n",
    "7. Осуществить проверку статистической гипотезы о равенстве коэффициента корреляции нулю при заданном уровне значимости\n",
    "𝛼 = 0.05"
   ]
  },
  {
   "cell_type": "markdown",
   "metadata": {},
   "source": [
    "## Выполнение работы"
   ]
  },
  {
   "cell_type": "markdown",
   "source": [
    "Задание 1"
   ],
   "metadata": {
    "collapsed": false,
    "pycharm": {
     "name": "#%% md\n"
    }
   }
  },
  {
   "cell_type": "code",
   "execution_count": 1,
   "outputs": [
    {
     "data": {
      "text/plain": "                                  Product  Price_euros\n0     17-Y002nv (A10-9600P/6GB/2TB/Radeon       569.00\n1                       IdeaPad 310-15ABR       499.00\n2                                Aspire 5       579.00\n3    17-ak002nv (A10-9620P/6GB/2TB/Radeon       655.01\n4        X555QG-DM242T (A10-9620P/4GB/1TB       575.00\n..                                    ...          ...\n107                     IdeaPad 110-15IBR       329.00\n108                        Aspire E5-774G       629.00\n109                        Aspire ES1-572       361.80\n110                         Inspiron 3567       428.00\n111                         Inspiron 5567       499.00\n\n[112 rows x 2 columns]",
      "text/html": "<div>\n<style scoped>\n    .dataframe tbody tr th:only-of-type {\n        vertical-align: middle;\n    }\n\n    .dataframe tbody tr th {\n        vertical-align: top;\n    }\n\n    .dataframe thead th {\n        text-align: right;\n    }\n</style>\n<table border=\"1\" class=\"dataframe\">\n  <thead>\n    <tr style=\"text-align: right;\">\n      <th></th>\n      <th>Product</th>\n      <th>Price_euros</th>\n    </tr>\n  </thead>\n  <tbody>\n    <tr>\n      <th>0</th>\n      <td>17-Y002nv (A10-9600P/6GB/2TB/Radeon</td>\n      <td>569.00</td>\n    </tr>\n    <tr>\n      <th>1</th>\n      <td>IdeaPad 310-15ABR</td>\n      <td>499.00</td>\n    </tr>\n    <tr>\n      <th>2</th>\n      <td>Aspire 5</td>\n      <td>579.00</td>\n    </tr>\n    <tr>\n      <th>3</th>\n      <td>17-ak002nv (A10-9620P/6GB/2TB/Radeon</td>\n      <td>655.01</td>\n    </tr>\n    <tr>\n      <th>4</th>\n      <td>X555QG-DM242T (A10-9620P/4GB/1TB</td>\n      <td>575.00</td>\n    </tr>\n    <tr>\n      <th>...</th>\n      <td>...</td>\n      <td>...</td>\n    </tr>\n    <tr>\n      <th>107</th>\n      <td>IdeaPad 110-15IBR</td>\n      <td>329.00</td>\n    </tr>\n    <tr>\n      <th>108</th>\n      <td>Aspire E5-774G</td>\n      <td>629.00</td>\n    </tr>\n    <tr>\n      <th>109</th>\n      <td>Aspire ES1-572</td>\n      <td>361.80</td>\n    </tr>\n    <tr>\n      <th>110</th>\n      <td>Inspiron 3567</td>\n      <td>428.00</td>\n    </tr>\n    <tr>\n      <th>111</th>\n      <td>Inspiron 5567</td>\n      <td>499.00</td>\n    </tr>\n  </tbody>\n</table>\n<p>112 rows × 2 columns</p>\n</div>"
     },
     "execution_count": 1,
     "metadata": {},
     "output_type": "execute_result"
    }
   ],
   "source": [
    "import pandas as pd\n",
    "import numpy as np\n",
    "\n",
    "\n",
    "table = pd.read_csv(\"laptop_price.csv\",delimiter=',')\n",
    "table = table.drop(['Weight'], axis = 1)\n",
    "table"
   ],
   "metadata": {
    "collapsed": false,
    "pycharm": {
     "name": "#%%\n"
    }
   }
  },
  {
   "cell_type": "markdown",
   "source": [
    "Ранжированный ряд"
   ],
   "metadata": {
    "collapsed": false
   }
  },
  {
   "cell_type": "code",
   "execution_count": 2,
   "outputs": [
    {
     "data": {
      "text/plain": "                                    Product  Price_euros\n48         C740-C9QX (3205U/2GB/32GB/Chrome       174.00\n39                          Vivobook E200HA       191.90\n44         V131 (X5-Z8350/4GB/32GB/FHD/W10)       196.00\n33     E402WA-GA010T (E2-6110/2GB/32GB/W10)       199.00\n50                     Chromebook C910-C2ST       199.00\n..                                      ...          ...\n3      17-ak002nv (A10-9620P/6GB/2TB/Radeon       655.01\n36  FX550IK-DM018T (FX-9830P/8GB/1TB/Radeon       699.00\n8                         IdeaPad 320-15ABR       899.00\n35                       IdeaPad Y700-15ACZ       999.00\n37                                Rog Strix      1695.00\n\n[112 rows x 2 columns]",
      "text/html": "<div>\n<style scoped>\n    .dataframe tbody tr th:only-of-type {\n        vertical-align: middle;\n    }\n\n    .dataframe tbody tr th {\n        vertical-align: top;\n    }\n\n    .dataframe thead th {\n        text-align: right;\n    }\n</style>\n<table border=\"1\" class=\"dataframe\">\n  <thead>\n    <tr style=\"text-align: right;\">\n      <th></th>\n      <th>Product</th>\n      <th>Price_euros</th>\n    </tr>\n  </thead>\n  <tbody>\n    <tr>\n      <th>48</th>\n      <td>C740-C9QX (3205U/2GB/32GB/Chrome</td>\n      <td>174.00</td>\n    </tr>\n    <tr>\n      <th>39</th>\n      <td>Vivobook E200HA</td>\n      <td>191.90</td>\n    </tr>\n    <tr>\n      <th>44</th>\n      <td>V131 (X5-Z8350/4GB/32GB/FHD/W10)</td>\n      <td>196.00</td>\n    </tr>\n    <tr>\n      <th>33</th>\n      <td>E402WA-GA010T (E2-6110/2GB/32GB/W10)</td>\n      <td>199.00</td>\n    </tr>\n    <tr>\n      <th>50</th>\n      <td>Chromebook C910-C2ST</td>\n      <td>199.00</td>\n    </tr>\n    <tr>\n      <th>...</th>\n      <td>...</td>\n      <td>...</td>\n    </tr>\n    <tr>\n      <th>3</th>\n      <td>17-ak002nv (A10-9620P/6GB/2TB/Radeon</td>\n      <td>655.01</td>\n    </tr>\n    <tr>\n      <th>36</th>\n      <td>FX550IK-DM018T (FX-9830P/8GB/1TB/Radeon</td>\n      <td>699.00</td>\n    </tr>\n    <tr>\n      <th>8</th>\n      <td>IdeaPad 320-15ABR</td>\n      <td>899.00</td>\n    </tr>\n    <tr>\n      <th>35</th>\n      <td>IdeaPad Y700-15ACZ</td>\n      <td>999.00</td>\n    </tr>\n    <tr>\n      <th>37</th>\n      <td>Rog Strix</td>\n      <td>1695.00</td>\n    </tr>\n  </tbody>\n</table>\n<p>112 rows × 2 columns</p>\n</div>"
     },
     "execution_count": 2,
     "metadata": {},
     "output_type": "execute_result"
    }
   ],
   "source": [
    "sortTable = table.sort_values('Price_euros')\n",
    "sortTable"
   ],
   "metadata": {
    "collapsed": false,
    "pycharm": {
     "name": "#%%\n"
    }
   }
  },
  {
   "cell_type": "markdown",
   "source": [
    "Вариационный ряд"
   ],
   "metadata": {
    "collapsed": false
   }
  },
  {
   "cell_type": "code",
   "execution_count": 3,
   "outputs": [
    {
     "data": {
      "text/plain": "                                    Product Price_euros  m_i      p*_i\n0          C740-C9QX (3205U/2GB/32GB/Chrome       174.0    1  0.008929\n1                           Vivobook E200HA       191.9    1  0.008929\n2          V131 (X5-Z8350/4GB/32GB/FHD/W10)       196.0    1  0.008929\n3      E402WA-GA010T (E2-6110/2GB/32GB/W10)       199.0    2  0.017857\n4                 K146 (N3350/4GB/32GB/W10)       202.9    1  0.008929\n..                                      ...         ...  ...       ...\n83  FX550IK-DM018T (FX-9830P/8GB/1TB/Radeon       699.0    1  0.008929\n84                        IdeaPad 320-15ABR       899.0    1  0.008929\n85                       IdeaPad Y700-15ACZ       999.0    1  0.008929\n86                                Rog Strix      1695.0    1  0.008929\n87                                 ПРОВЕРКА              112  1.000000\n\n[88 rows x 4 columns]",
      "text/html": "<div>\n<style scoped>\n    .dataframe tbody tr th:only-of-type {\n        vertical-align: middle;\n    }\n\n    .dataframe tbody tr th {\n        vertical-align: top;\n    }\n\n    .dataframe thead th {\n        text-align: right;\n    }\n</style>\n<table border=\"1\" class=\"dataframe\">\n  <thead>\n    <tr style=\"text-align: right;\">\n      <th></th>\n      <th>Product</th>\n      <th>Price_euros</th>\n      <th>m_i</th>\n      <th>p*_i</th>\n    </tr>\n  </thead>\n  <tbody>\n    <tr>\n      <th>0</th>\n      <td>C740-C9QX (3205U/2GB/32GB/Chrome</td>\n      <td>174.0</td>\n      <td>1</td>\n      <td>0.008929</td>\n    </tr>\n    <tr>\n      <th>1</th>\n      <td>Vivobook E200HA</td>\n      <td>191.9</td>\n      <td>1</td>\n      <td>0.008929</td>\n    </tr>\n    <tr>\n      <th>2</th>\n      <td>V131 (X5-Z8350/4GB/32GB/FHD/W10)</td>\n      <td>196.0</td>\n      <td>1</td>\n      <td>0.008929</td>\n    </tr>\n    <tr>\n      <th>3</th>\n      <td>E402WA-GA010T (E2-6110/2GB/32GB/W10)</td>\n      <td>199.0</td>\n      <td>2</td>\n      <td>0.017857</td>\n    </tr>\n    <tr>\n      <th>4</th>\n      <td>K146 (N3350/4GB/32GB/W10)</td>\n      <td>202.9</td>\n      <td>1</td>\n      <td>0.008929</td>\n    </tr>\n    <tr>\n      <th>...</th>\n      <td>...</td>\n      <td>...</td>\n      <td>...</td>\n      <td>...</td>\n    </tr>\n    <tr>\n      <th>83</th>\n      <td>FX550IK-DM018T (FX-9830P/8GB/1TB/Radeon</td>\n      <td>699.0</td>\n      <td>1</td>\n      <td>0.008929</td>\n    </tr>\n    <tr>\n      <th>84</th>\n      <td>IdeaPad 320-15ABR</td>\n      <td>899.0</td>\n      <td>1</td>\n      <td>0.008929</td>\n    </tr>\n    <tr>\n      <th>85</th>\n      <td>IdeaPad Y700-15ACZ</td>\n      <td>999.0</td>\n      <td>1</td>\n      <td>0.008929</td>\n    </tr>\n    <tr>\n      <th>86</th>\n      <td>Rog Strix</td>\n      <td>1695.0</td>\n      <td>1</td>\n      <td>0.008929</td>\n    </tr>\n    <tr>\n      <th>87</th>\n      <td>ПРОВЕРКА</td>\n      <td></td>\n      <td>112</td>\n      <td>1.000000</td>\n    </tr>\n  </tbody>\n</table>\n<p>88 rows × 4 columns</p>\n</div>"
     },
     "execution_count": 3,
     "metadata": {},
     "output_type": "execute_result"
    }
   ],
   "source": [
    "sortTable['m_i'] = sortTable.groupby('Price_euros')['Price_euros'].transform('count')\n",
    "sortTable= sortTable.drop_duplicates(subset=['Price_euros']).reset_index(drop = True)\n",
    "sortTable['p*_i'] = sortTable['m_i']/sum(sortTable['m_i'])\n",
    "sum_row = {'Product': 'ПРОВЕРКА','Price_euros':'', 'm_i': sum(sortTable['m_i']), 'p*_i': sum(sortTable['p*_i'])}\n",
    "sortTable.append(sum_row, ignore_index=True)"
   ],
   "metadata": {
    "collapsed": false,
    "pycharm": {
     "name": "#%%\n"
    }
   }
  },
  {
   "cell_type": "markdown",
   "source": [
    "Интервальный ряд"
   ],
   "metadata": {
    "collapsed": false
   }
  },
  {
   "cell_type": "code",
   "execution_count": 4,
   "outputs": [
    {
     "name": "stdout",
     "output_type": "stream",
     "text": [
      "n= 87\n",
      "k= 22.0\n",
      "max_x= 1695.0\n",
      "min_x= 174.0\n",
      "h= 69.136\n",
      "x0= 173\n",
      "[173.0, 242.136, 311.272, 380.408, 449.544, 518.68, 587.816, 656.952, 726.088, 795.2239999999999, 864.3599999999999, 933.496, 1002.632, 1071.768, 1140.904, 1210.04, 1279.176, 1348.312, 1417.4479999999999, 1486.5839999999998, 1555.7199999999998, 1624.856, 1693.992, 1763.128] -границы промежутков\n",
      "[10, 23, 18, 12, 8, 8, 4, 1, 0, 0, 1, 1, 0, 0, 0, 0, 0, 0, 0, 0, 0, 0, 1] - абсолютные частоты интервального ряда\n",
      "87 - проверяем, что сумма не изменилась, значит частоты посчитаны верно\n",
      "\n",
      "\n",
      "              Промежуток  mi      pi\n",
      "0       [173.0, 242.136]  10  0.1149\n",
      "1     [242.136, 311.272]  23  0.2644\n",
      "2     [311.272, 380.408]  18  0.2069\n",
      "3     [380.408, 449.544]  12  0.1379\n",
      "4      [449.544, 518.68]   8  0.0920\n",
      "5      [518.68, 587.816]   8  0.0920\n",
      "6     [587.816, 656.952]   4  0.0460\n",
      "7     [656.952, 726.088]   1  0.0115\n",
      "8     [726.088, 795.224]   0  0.0000\n",
      "9      [795.224, 864.36]   0  0.0000\n",
      "10     [864.36, 933.496]   1  0.0115\n",
      "11   [933.496, 1002.632]   1  0.0115\n",
      "12  [1002.632, 1071.768]   0  0.0000\n",
      "13  [1071.768, 1140.904]   0  0.0000\n",
      "14   [1140.904, 1210.04]   0  0.0000\n",
      "15   [1210.04, 1279.176]   0  0.0000\n",
      "16  [1279.176, 1348.312]   0  0.0000\n",
      "17  [1348.312, 1417.448]   0  0.0000\n",
      "18  [1417.448, 1486.584]   0  0.0000\n",
      "19   [1486.584, 1555.72]   0  0.0000\n",
      "20   [1555.72, 1624.856]   0  0.0000\n",
      "21  [1624.856, 1693.992]   0  0.0000\n",
      "22  [1693.992, 1763.128]   1  0.0115\n",
      "\n",
      "найдем сумму относительных частот:\n",
      "1.0 - частоты посчитаны верно\n",
      "\n",
      "\n",
      "[207.568, 276.704, 345.84, 414.976, 484.112, 553.248, 622.384, 691.52, 760.656, 829.792, 898.928, 968.064, 1037.2, 1106.336, 1175.472, 1244.608, 1313.744, 1382.88, 1452.016, 1521.152, 1590.288, 1659.424, 1728.56]  - середины промежутков\n",
      "мат ожидание:  399.158\n",
      "дисперсия  41846.941\n",
      "ско:  204.565\n",
      "медиана:  968.064\n",
      "мода:  276.704\n",
      "коэффициент ассиметрии a_s :  4 3\n",
      "коэффициент эксцесса e_k :  18.885\n",
      "\n",
      "a_s > 0 => распределение скошено вправо, a_s > 0.5 => асимметрия существует\n",
      "e_k < 0 => наше распределение более высокое относительно нормального\n",
      "\n",
      "обработанныый интервальный ряд из первой работы:\n",
      "       Промежуток  mi      pi\n",
      "0  [0.495, 0.995]   2  0.0465\n",
      "1  [0.995, 1.495]  12  0.2791\n",
      "2  [1.495, 1.995]  11  0.2558\n",
      "3  [1.995, 2.495]  11  0.2558\n",
      "4  [2.495, 2.995]   5  0.1163\n",
      "5  [2.995, 3.495]   2  0.0465\n"
     ]
    }
   ],
   "source": [
    "n = sortTable['Product'].size\n",
    "print('n=',n)\n",
    "k = 1 + 3.322*(np.log2(sortTable['Product'].size))//1\n",
    "print('k=',k)\n",
    "max_x = sortTable['Price_euros'].max()\n",
    "min_x = sortTable['Price_euros'].min()\n",
    "print('max_x=', max_x)\n",
    "print('min_x=', min_x)\n",
    "h = round((max_x - min_x)/k,3)\n",
    "print('h=',h)\n",
    "x0 = round(min_x - 1)\n",
    "print('x0=',x0)\n",
    "borders = []\n",
    "for i in range(24):\n",
    "    borders.append(x0+ i*h)\n",
    "print(borders,'-границы промежутков')\n",
    "size = 0\n",
    "mi = []\n",
    "for j in range(len(borders)-1):\n",
    "    tmp = sortTable['Price_euros'].between(borders[j], borders[j+1], inclusive='right').tolist()\n",
    "    for i in range(len(tmp)):\n",
    "        if tmp[i]:\n",
    "            size+=1\n",
    "    mi.append(size)\n",
    "    size = 0\n",
    "print(mi, '- абсолютные частоты интервального ряда')\n",
    "print(sum(mi), '- проверяем, что сумма не изменилась, значит частоты посчитаны верно')\n",
    "\n",
    "intervals = []\n",
    "for i in range(len(borders)-1):\n",
    "    intervals.append([round(borders[i], 3), round(borders[i+1], 3)])\n",
    "\n",
    "rangeTable = pd.DataFrame(data={'Промежуток': intervals, 'mi': mi})\n",
    "print('\\n')\n",
    "rangeTable['pi'] = round(rangeTable['mi']/n,4)\n",
    "print(rangeTable)\n",
    "print('\\nнайдем сумму относительных частот:')\n",
    "print(round(sum(rangeTable['pi']),3),'- частоты посчитаны верно')\n",
    "mid_intervals=[]\n",
    "print('\\n')\n",
    "for i in range(len(borders)-1):\n",
    "    mid_intervals.append(round((borders[i] + borders[i+1])/2, 3))\n",
    "print(mid_intervals, ' - середины промежутков')\n",
    "c = mid_intervals[len(mid_intervals) // 2]\n",
    "df = pd.DataFrame({'xi': [], 'pi': [], 'ui': [], 'ui_pi': [], 'ui2_pi': [], 'ui3_pi': [], 'ui4_pi': []})\n",
    "df['xi'] = mid_intervals\n",
    "df['pi'] = rangeTable['pi']\n",
    "df['ui'] = (df['xi'] - c)/ h\n",
    "df['ui_pi'] = df['ui'] * df['pi']\n",
    "df['ui2_pi'] = df['ui']**2 * df['pi']\n",
    "df['ui3_pi'] = df['ui']**3 * df['pi']\n",
    "df['ui4_pi'] = df['ui']**4 * df['pi']\n",
    "\n",
    "\n",
    "x_mid_st = round(sum(df['xi'] * df['pi']), 3)\n",
    "disp_st = round (sum(pow((df['xi'] - x_mid_st), 2) * df['pi']), 3)\n",
    "print('мат ожидание: ', x_mid_st)\n",
    "print('дисперсия ', disp_st)\n",
    "sko_st = round(np.sqrt(disp_st), 3)\n",
    "print('ско: ', sko_st)\n",
    "print('медиана: ',  c)\n",
    "print('мода: ', df['xi'][df['pi'].idxmax()] )\n",
    "\n",
    "\n",
    "v = [sum(df['ui_pi'])]\n",
    "for i in range(3):\n",
    "    v.append(sum(df['ui'+ str(i+2) + '_pi']))\n",
    "\n",
    "m = []\n",
    "x_mid = v[0] * h + c\n",
    "for j in range(4):\n",
    "        m.append(sum(pow((df['xi'] - x_mid), j + 1) * df['pi']))\n",
    "df_moment = pd.DataFrame({'v': v, 'm': m})\n",
    "df_moment.round(3)\n",
    "a_s = df_moment['m'][2] / pow(sko_st, 3)\n",
    "e_k = df_moment['m'][3] / pow(sko_st, 4) - 3\n",
    "\n",
    "df_as_ek = pd.DataFrame({'a_s': [a_s], 'e_k': [e_k]})\n",
    "\n",
    "print('коэффициент ассиметрии a_s : ', round(df_as_ek['a_s'][0]), 3)\n",
    "print('коэффициент эксцесса e_k : ', round(df_as_ek['e_k'][0], 3) )\n",
    "\n",
    "print('\\na_s > 0 => распределение скошено вправо, a_s > 0.5 => асимметрия существует')\n",
    "print('e_k < 0 => наше распределение более высокое относительно нормального')\n",
    "\n",
    "\n",
    "\n",
    "#из первой работы\n",
    "intervals1 = []\n",
    "for i in range(6):\n",
    "    intervals1.append([0.495 + 0.5 * i, 0.495 + 0.5 * ( i + 1 )])\n",
    "\n",
    "mi_1 = [2, 12, 11, 11, 5, 2]\n",
    "pi_1 = [0.0465, 0.2791, 0.2558, 0.2558, 0.1163, 0.0465]\n",
    "\n",
    "rangeTable1 = pd.DataFrame({'Промежуток': intervals1, 'mi': mi_1, 'pi': pi_1})\n",
    "print('\\nобработанныый интервальный ряд из первой работы:')\n",
    "print(rangeTable1)"
   ],
   "metadata": {
    "collapsed": false,
    "pycharm": {
     "name": "#%%\n"
    }
   }
  },
  {
   "cell_type": "markdown",
   "source": [
    "Задание 2"
   ],
   "metadata": {
    "collapsed": false,
    "pycharm": {
     "name": "#%% md\n"
    }
   }
  },
  {
   "cell_type": "code",
   "execution_count": 5,
   "outputs": [
    {
     "name": "stdout",
     "output_type": "stream",
     "text": [
      "[[ 1.  7.  2.  3.  0.  0.]\n",
      " [ 0. 16. 10.  4.  0.  0.]\n",
      " [ 1.  6.  3. 15.  1.  0.]\n",
      " [ 0.  3.  3.  8.  1.  0.]\n",
      " [ 0.  3.  4.  4.  0.  0.]\n",
      " [ 0.  0.  2.  4.  2.  0.]\n",
      " [ 0.  0.  1.  2.  1.  1.]\n",
      " [ 0.  0.  0.  1.  0.  0.]\n",
      " [ 0.  0.  0.  0.  0.  0.]\n",
      " [ 0.  0.  0.  0.  0.  0.]\n",
      " [ 0.  0.  0.  1.  0.  0.]\n",
      " [ 0.  0.  0.  0.  1.  0.]\n",
      " [ 0.  0.  0.  0.  0.  0.]\n",
      " [ 0.  0.  0.  0.  0.  0.]\n",
      " [ 0.  0.  0.  0.  0.  0.]\n",
      " [ 0.  0.  0.  0.  0.  0.]\n",
      " [ 0.  0.  0.  0.  0.  0.]\n",
      " [ 0.  0.  0.  0.  0.  0.]\n",
      " [ 0.  0.  0.  0.  0.  0.]\n",
      " [ 0.  0.  0.  0.  0.  0.]\n",
      " [ 0.  0.  0.  0.  0.  0.]\n",
      " [ 0.  0.  0.  0.  0.  0.]\n",
      " [ 0.  0.  0.  0.  0.  1.]]\n",
      "\n",
      "Получился двумерный интервальный вариационный ряд, строки которого соответствуют интервалам параметра Price_euros, а столбцы Weight \n"
     ]
    }
   ],
   "source": [
    "table = pd.read_csv(\"laptop_price.csv\",delimiter=',')\n",
    "\n",
    "\n",
    "mas = np.empty((len(rangeTable),len(rangeTable1)))\n",
    "mas.fill(0)\n",
    "\n",
    "for k in range(len(table)):\n",
    "    for i in range(len(rangeTable)):\n",
    "        if rangeTable['Промежуток'][i][0] < table['Price_euros'][k] <= rangeTable['Промежуток'][i][1]:\n",
    "            for j in range(len(rangeTable1)):\n",
    "                if rangeTable1['Промежуток'][j][0] < table['Weight'][k] <= rangeTable1['Промежуток'][j][1]:\n",
    "                    mas[i][j] += 1\n",
    "\n",
    "\n",
    "print(mas)\n",
    "print('\\nПолучился двумерный интервальный вариационный ряд, строки которого'\n",
    "      ' соответствуют интервалам параметра Price_euros, а столбцы Weight ')"
   ],
   "metadata": {
    "collapsed": false,
    "pycharm": {
     "name": "#%%\n"
    }
   }
  },
  {
   "cell_type": "markdown",
   "source": [
    "Задание 3"
   ],
   "metadata": {
    "collapsed": false,
    "pycharm": {
     "name": "#%% md\n"
    }
   }
  },
  {
   "cell_type": "code",
   "execution_count": 6,
   "outputs": [
    {
     "name": "stdout",
     "output_type": "stream",
     "text": [
      "     y1    y2    y3    y4   y5   y6   m_xi\n",
      "0   1.0   7.0   2.0   3.0  0.0  0.0   13.0\n",
      "1   0.0  16.0  10.0   4.0  0.0  0.0   30.0\n",
      "2   1.0   6.0   3.0  15.0  1.0  0.0   26.0\n",
      "3   0.0   3.0   3.0   8.0  1.0  0.0   15.0\n",
      "4   0.0   3.0   4.0   4.0  0.0  0.0   11.0\n",
      "5   0.0   0.0   2.0   4.0  2.0  0.0    8.0\n",
      "6   0.0   0.0   1.0   2.0  1.0  1.0    5.0\n",
      "7   0.0   0.0   0.0   1.0  0.0  0.0    1.0\n",
      "8   0.0   0.0   0.0   0.0  0.0  0.0    0.0\n",
      "9   0.0   0.0   0.0   0.0  0.0  0.0    0.0\n",
      "10  0.0   0.0   0.0   1.0  0.0  0.0    1.0\n",
      "11  0.0   0.0   0.0   0.0  1.0  0.0    1.0\n",
      "12  0.0   0.0   0.0   0.0  0.0  0.0    0.0\n",
      "13  0.0   0.0   0.0   0.0  0.0  0.0    0.0\n",
      "14  0.0   0.0   0.0   0.0  0.0  0.0    0.0\n",
      "15  0.0   0.0   0.0   0.0  0.0  0.0    0.0\n",
      "16  0.0   0.0   0.0   0.0  0.0  0.0    0.0\n",
      "17  0.0   0.0   0.0   0.0  0.0  0.0    0.0\n",
      "18  0.0   0.0   0.0   0.0  0.0  0.0    0.0\n",
      "19  0.0   0.0   0.0   0.0  0.0  0.0    0.0\n",
      "20  0.0   0.0   0.0   0.0  0.0  0.0    0.0\n",
      "21  0.0   0.0   0.0   0.0  0.0  0.0    0.0\n",
      "22  0.0   0.0   0.0   0.0  0.0  1.0    1.0\n",
      "23  2.0  35.0  25.0  42.0  6.0  2.0  112.0\n",
      "\n",
      " частота появления варианты x_i при заданном y: m_xi =  112.0\n",
      "частота появления варианты y_i при заданном x: m_yi =  112.0\n",
      "частоты совпали и равны n = 112, значит таблица построена верно\n"
     ]
    }
   ],
   "source": [
    "cor_tab = pd.DataFrame(mas, columns=['y1', 'y2','y3','y4','y5','y6',])\n",
    "cor_tab['m_xi'] = cor_tab.sum(axis=1)\n",
    "m_xi = sum(cor_tab['m_xi'])\n",
    "cor_tab = cor_tab.append(cor_tab.sum(axis=0), ignore_index=True)\n",
    "m_yi = 0\n",
    "for i in range(len(cor_tab.columns)-1):\n",
    "    m_yi += cor_tab['y' + str(i+1)][len(cor_tab)-1]\n",
    "print(cor_tab)\n",
    "\n",
    "print('\\n частота появления варианты x_i при заданном y: m_xi = ', m_xi)\n",
    "print('частота появления варианты y_i при заданном x: m_yi = ', m_yi)\n",
    "print('частоты совпали и равны n = 112, значит таблица построена верно')\n",
    "\n"
   ],
   "metadata": {
    "collapsed": false,
    "pycharm": {
     "name": "#%%\n"
    }
   }
  },
  {
   "cell_type": "markdown",
   "source": [
    "Задание 4, 5"
   ],
   "metadata": {
    "collapsed": false,
    "pycharm": {
     "name": "#%% md\n"
    }
   }
  },
  {
   "cell_type": "code",
   "execution_count": 11,
   "outputs": [
    {
     "name": "stdout",
     "output_type": "stream",
     "text": [
      "выборочное среднее для x:  387.198\n",
      "выборочное среднее для y:  1.839\n",
      "выборочная дисперсия для x:  41846.943\n",
      "выборочная дисперсия для y:  0.385\n",
      "выборочное ско x:  204.565\n",
      "выборочное ско y:  0.62\n"
     ]
    }
   ],
   "source": [
    "mid_intervals1 = []\n",
    "for i in range(6):\n",
    "    mid_intervals1.append((intervals1[i][0] + intervals1[i][1])/2)\n",
    "\n",
    "x_mid = 0\n",
    "y_mid = 0\n",
    "x_disp = 0\n",
    "y_disp = 0\n",
    "for i in range(6):\n",
    "   y_mid += mid_intervals1[i] * cor_tab['y' + str(i + 1)][len(cor_tab) - 1]\n",
    "\n",
    "\n",
    "for i in range(len(cor_tab) - 1):\n",
    "    x_mid += mid_intervals[i] * cor_tab['m_xi'][i]\n",
    "\n",
    "x_mid/= 112\n",
    "y_mid/= 112\n",
    "x_sko = np.sqrt(df_moment['m'][1])\n",
    "y_disp = 0.385 #из второй работы\n",
    "y_sko = np.sqrt(y_disp)\n",
    "print('выборочное среднее для x: ', round(x_mid, 3))\n",
    "print('выборочное среднее для y: ', round(y_mid, 3))\n",
    "print('выборочная дисперсия для x: ', round(df_moment['m'][1], 3))\n",
    "print('выборочная дисперсия для y: ', y_disp)\n",
    "print('выборочное ско x: ', round(x_sko, 3))\n",
    "print('выборочное ско y: ', round(y_sko, 3))"
   ],
   "metadata": {
    "collapsed": false,
    "pycharm": {
     "name": "#%%\n"
    }
   }
  },
  {
   "cell_type": "code",
   "execution_count": 8,
   "outputs": [
    {
     "name": "stdout",
     "output_type": "stream",
     "text": [
      "способ через условные варианты:\n",
      "условные варианты для второго параметра:\n",
      "[-11.0, -10.0, -9.0, -8.0, -7.0, -6.0, -5.0, -4.0, -3.0, -2.0, -1.0, 0.0, 1.0, 2.0, 3.0, 4.0, 5.0, 6.0, 7.0, 8.0, 9.0, 10.0, 11.0]\n",
      "условные варианты для первого параметра(из второй работы):\n",
      "[-3.0, -2, -1, 0, 1, 2]\n",
      "статистическая оценка корреляционного момента:  8.286\n",
      "коэффициент корреляции:  0.065\n",
      "значение коэффициента корреляции близко к 0 => связь между x и y очень слабая\n"
     ]
    }
   ],
   "source": [
    "print('способ через условные варианты:')\n",
    "\n",
    "print('условные варианты для второго параметра:')\n",
    "cond_var2 = df['ui'].round(3).tolist()\n",
    "print(cond_var2)\n",
    "print('условные варианты для первого параметра(из второй работы):')\n",
    "cond_var1 = [-3.0, -2, -1, 0, 1, 2]\n",
    "print(cond_var1)\n",
    "cond_var1_mid = np.mean(cond_var1)\n",
    "cond_var2_mid = np.mean(cond_var2)\n",
    "sum = 0\n",
    "for i in range(len(cond_var2)):\n",
    "    for j in range(len(cond_var1)):\n",
    "        sum+= mas[i][j] * cond_var1[j]*cond_var2[i]\n",
    "sum/=112\n",
    "mu = sum- cond_var1_mid* cond_var2_mid\n",
    "print('статистическая оценка корреляционного момента: ', round(mu, 3))\n",
    "corr = ( sum - cond_var1_mid* cond_var2_mid)/ (x_sko * y_sko)\n",
    "print('коэффициент корреляции: ', round(corr, 3))\n",
    "print('значение коэффициента корреляции близко к 0 => связь между x и y очень слабая')"
   ],
   "metadata": {
    "collapsed": false,
    "pycharm": {
     "name": "#%%\n"
    }
   }
  },
  {
   "cell_type": "markdown",
   "source": [
    "Задание 6"
   ],
   "metadata": {
    "collapsed": false,
    "pycharm": {
     "name": "#%% md\n"
    }
   }
  },
  {
   "cell_type": "code",
   "execution_count": 9,
   "outputs": [
    {
     "name": "stdout",
     "output_type": "stream",
     "text": [
      "по преобразованию Фишера z =  0.065\n",
      "стандартная ошибка среднего SE =  0.009\n",
      "g = 0.95 => a = 1 - g = 0.05 => по таблице t =~ 1.96\n",
      "доверительный интервал для g = 0.95:  (0.047, 0.083)\n",
      "g = 0.99 => a = 1 - g = 0.01 => по таблице t =~ 2.5758\n",
      "доверительный интервал для g = 0.99:  (0.042, 0.089)\n"
     ]
    }
   ],
   "source": [
    "import math\n",
    "\n",
    "z = 0.5 * math.log((1 + corr)/ (1 - corr))\n",
    "print('по преобразованию Фишера z = ', round(z, 3))\n",
    "se = 1/ (112 - 3)\n",
    "print('стандартная ошибка среднего SE = ', round(se, 3))\n",
    "print('g = 0.95 => a = 1 - g = 0.05 => по таблице t =~ 1.96')\n",
    "t = 1.96\n",
    "print('доверительный интервал для g = 0.95: ', (round((np.exp(2*(z - t * se)) - 1)/ (np.exp(2*(z - t * se)) + 1), 3), round((np.exp(2*(z + t * se)) - 1)/ (np.exp(2*(z + t * se)) + 1), 3)))\n",
    "\n",
    "print('g = 0.99 => a = 1 - g = 0.01 => по таблице t =~ 2.5758')\n",
    "t = 2.5758\n",
    "print('доверительный интервал для g = 0.99: ', (round((np.exp(2*(z - t * se)) - 1)/ (np.exp(2*(z - t * se)) + 1), 3), round((np.exp(2*(z + t * se)) - 1)/ (np.exp(2*(z + t * se)) + 1), 3)) )"
   ],
   "metadata": {
    "collapsed": false,
    "pycharm": {
     "name": "#%%\n"
    }
   }
  },
  {
   "cell_type": "markdown",
   "source": [
    "Задание 7"
   ],
   "metadata": {
    "collapsed": false,
    "pycharm": {
     "name": "#%% md\n"
    }
   }
  },
  {
   "cell_type": "code",
   "execution_count": 10,
   "outputs": [
    {
     "name": "stdout",
     "output_type": "stream",
     "text": [
      "a =  0.05\n",
      "H_0: r = 0\n",
      "H_1: r != 0\n",
      "t_крит при a = 0.05 и n - 2 = 110 примерно равно   1.98\n",
      "T_набл =  0.686\n",
      "|T_набл| < t_крит => гипотезу H_0 не отклоняем => отсутствует линейная завсисимость\n"
     ]
    }
   ],
   "source": [
    "a = 0.05\n",
    "n = 112\n",
    "print('a = ', a)\n",
    "print('H_0: r = 0')\n",
    "print('H_1: r != 0')\n",
    "print('t_крит при a = 0.05 и n - 2 = 110 примерно равно  ',  1.98)\n",
    "print('T_набл = ', round(corr * np.sqrt(n - 2) / np.sqrt(1 - corr**2), 3))\n",
    "print('|T_набл| < t_крит => гипотезу H_0 не отклоняем => отсутствует линейная завсисимость')\n",
    "\n",
    "\n"
   ],
   "metadata": {
    "collapsed": false,
    "pycharm": {
     "name": "#%%\n"
    }
   }
  },
  {
   "cell_type": "markdown",
   "metadata": {},
   "source": [
    "## Выводы\n",
    "В процессе выполнения практической работы была обработана вторая выборка в объеме практических работ №1 и №2(найдены мат.ожидание, дисперсия, среднеквадратичное отклонение, коэффициенты асимметрии и эксцесса)\n",
    "По исходной системе случайных величин была сформирована двумерная выборка и построена корреляционная таблица, с помощью которой был найден коэффициент корреляции. В результате анализа коэффициента корреляции выяснилось, что\n",
    "в системе случайных величин отсутствует линейная зависимость."
   ]
  }
 ],
 "metadata": {
  "kernelspec": {
   "display_name": "Python 3",
   "language": "python",
   "name": "python3"
  },
  "language_info": {
   "codemirror_mode": {
    "name": "ipython",
    "version": 3
   },
   "file_extension": ".py",
   "mimetype": "text/x-python",
   "name": "python",
   "nbconvert_exporter": "python",
   "pygments_lexer": "ipython3",
   "version": "3.8.10"
  }
 },
 "nbformat": 4,
 "nbformat_minor": 4
}