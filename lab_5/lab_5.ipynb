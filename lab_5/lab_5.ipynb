{
 "cells": [
  {
   "cell_type": "markdown",
   "metadata": {
    "collapsed": true,
    "pycharm": {
     "name": "#%% md\n"
    }
   },
   "source": [
    "Задание 1"
   ]
  },
  {
   "cell_type": "code",
   "execution_count": 1,
   "outputs": [
    {
     "name": "stdout",
     "output_type": "stream",
     "text": [
      "график двумерной выборки\n"
     ]
    },
    {
     "data": {
      "text/plain": "<Figure size 432x288 with 1 Axes>",
      "image/png": "[encoded data removed]"
     },
     "metadata": {
      "needs_background": "light"
     },
     "output_type": "display_data"
    },
    {
     "name": "stdout",
     "output_type": "stream",
     "text": [
      "на графике значения по оси Х соответствуют значениям параметра Weight,\n",
      "а по Y - Price_euros\n"
     ]
    }
   ],
   "source": [
    "import pandas as pd\n",
    "import numpy as np\n",
    "import matplotlib.pyplot as plt\n",
    "\n",
    "print('график двумерной выборки')\n",
    "table = pd.read_csv(\"laptop_price.csv\",delimiter=',')\n",
    "fig, ax = plt.subplots()\n",
    "ax.scatter(table['Weight'], table['Price_euros'])\n",
    "ax.grid()\n",
    "plt.show()\n",
    "print('на графике значения по оси Х соответствуют значениям параметра Weight,\\nа по Y - Price_euros')"
   ],
   "metadata": {
    "collapsed": false,
    "pycharm": {
     "name": "#%%\n"
    }
   }
  },
  {
   "cell_type": "markdown",
   "source": [
    "Задание 2"
   ],
   "metadata": {
    "collapsed": false,
    "pycharm": {
     "name": "#%% md\n"
    }
   }
  },
  {
   "cell_type": "code",
   "execution_count": 2,
   "outputs": [
    {
     "name": "stdout",
     "output_type": "stream",
     "text": [
      "данные из 4 работы:\n",
      "коэффициент корреляции:  0.065\n",
      "выборочное среднее для Weight(или x):  1.839\n",
      "выборочное среднее для Price_euros(или y):  387.198\n",
      "выборочное ско для Weight(или x):  0.62\n",
      "выборочное ско для Price_euros(или y):  204.565\n",
      "\n",
      "уравнения средней квадратичной регрессии\n",
      "y_x = 0.065 * 204.565 * (x - 1.839)/0.62 + 387.198\n",
      "x_y = 0.065 * 0.62 * (x - 387.198)/204.565 + 1.839\n"
     ]
    },
    {
     "data": {
      "text/plain": "<Figure size 432x288 with 1 Axes>",
      "image/png": "[encoded data removed]"
     },
     "metadata": {
      "needs_background": "light"
     },
     "output_type": "display_data"
    },
    {
     "name": "stdout",
     "output_type": "stream",
     "text": [
      "на графике видно, что все точки расположены достаточно близко к линиям регрессии, за исключением (3.20 ; 1695), которую будем считать регрессионным остатком\n"
     ]
    }
   ],
   "source": [
    "corr = 0.065\n",
    "x_mid = 1.839\n",
    "y_mid = 387.198\n",
    "x_sko = 0.62\n",
    "y_sko = 204.565\n",
    "print('данные из 4 работы:')\n",
    "print('коэффициент корреляции: ', corr)\n",
    "print('выборочное среднее для Weight(или x): ', x_mid)\n",
    "print('выборочное среднее для Price_euros(или y): ', y_mid)\n",
    "print('выборочное ско для Weight(или x): ', x_sko)\n",
    "print('выборочное ско для Price_euros(или y): ', y_sko)\n",
    "reg_yx = lambda x: corr * y_sko * (x - x_mid)/x_sko + y_mid\n",
    "reg_xy = lambda x: corr * x_sko * (x - y_mid)/y_sko + x_mid\n",
    "print('\\nуравнения средней квадратичной регрессии')\n",
    "print(f'y_x = {corr} * {y_sko} * (x - {x_mid})/{x_sko} + {y_mid}')\n",
    "print(f'x_y = {corr} * {x_sko} * (x - {y_mid})/{y_sko} + {x_mid}')\n",
    "fig, ax = plt.subplots()\n",
    "ax.plot(table['Weight'], reg_yx(table['Weight']))\n",
    "ax.plot( reg_xy(table['Price_euros']), table['Price_euros'])\n",
    "ax.scatter(table['Weight'], table['Price_euros'])\n",
    "ax.grid()\n",
    "plt.show()\n",
    "\n",
    "print('на графике видно, что все точки расположены достаточно близко к линиям регрессии, '\n",
    "      'за исключением (3.20 ; 1695), которую будем считать регрессионным остатком')"
   ],
   "metadata": {
    "collapsed": false,
    "pycharm": {
     "name": "#%%\n"
    }
   }
  },
  {
   "cell_type": "markdown",
   "source": [
    "Задание 3"
   ],
   "metadata": {
    "collapsed": false
   }
  },
  {
   "cell_type": "code",
   "execution_count": 3,
   "outputs": [
    {
     "name": "stdout",
     "output_type": "stream",
     "text": [
      "\n",
      "\n",
      "корреляционная таблица из 4 работы(x - Price_euros, y - Weight):\n",
      "     y1    y2    y3    y4   y5   y6   m_xi\n",
      "0   1.0   7.0   2.0   3.0  0.0  0.0   13.0\n",
      "1   0.0  16.0  10.0   4.0  0.0  0.0   30.0\n",
      "2   1.0   6.0   3.0  15.0  1.0  0.0   26.0\n",
      "3   0.0   3.0   3.0   8.0  1.0  0.0   15.0\n",
      "4   0.0   3.0   4.0   4.0  0.0  0.0   11.0\n",
      "5   0.0   0.0   2.0   4.0  2.0  0.0    8.0\n",
      "6   0.0   0.0   1.0   2.0  1.0  1.0    5.0\n",
      "7   0.0   0.0   0.0   1.0  0.0  0.0    1.0\n",
      "8   0.0   0.0   0.0   0.0  0.0  0.0    0.0\n",
      "9   0.0   0.0   0.0   0.0  0.0  0.0    0.0\n",
      "10  0.0   0.0   0.0   1.0  0.0  0.0    1.0\n",
      "11  0.0   0.0   0.0   0.0  1.0  0.0    1.0\n",
      "12  0.0   0.0   0.0   0.0  0.0  0.0    0.0\n",
      "13  0.0   0.0   0.0   0.0  0.0  0.0    0.0\n",
      "14  0.0   0.0   0.0   0.0  0.0  0.0    0.0\n",
      "15  0.0   0.0   0.0   0.0  0.0  0.0    0.0\n",
      "16  0.0   0.0   0.0   0.0  0.0  0.0    0.0\n",
      "17  0.0   0.0   0.0   0.0  0.0  0.0    0.0\n",
      "18  0.0   0.0   0.0   0.0  0.0  0.0    0.0\n",
      "19  0.0   0.0   0.0   0.0  0.0  0.0    0.0\n",
      "20  0.0   0.0   0.0   0.0  0.0  0.0    0.0\n",
      "21  0.0   0.0   0.0   0.0  0.0  0.0    0.0\n",
      "22  0.0   0.0   0.0   0.0  0.0  1.0    1.0\n",
      "23  2.0  35.0  25.0  42.0  6.0  2.0  112.0\n",
      "\n",
      "\n",
      "проверка неравенств корреляционных отношений:\n",
      "0.668 > 0.065\n",
      "0.59 > 0.065\n"
     ]
    }
   ],
   "source": [
    "# Формируем корреляционную таблицу, как в 4 работе\n",
    "mi_1 = [2, 12, 11, 11, 5, 2]\n",
    "pi_1 = [0.0465, 0.2791, 0.2558, 0.2558, 0.1163, 0.0465]\n",
    "intervals1 = []\n",
    "for i in range(6):\n",
    "    intervals1.append([0.495 + 0.5 * i, 0.495 + 0.5 * ( i + 1 )])\n",
    "\n",
    "rangeTable1 = pd.DataFrame({'Промежуток': intervals1, 'mi': mi_1, 'pi': pi_1})\n",
    "sortTable = table.sort_values('Price_euros')\n",
    "sortTable['m_i'] = sortTable.groupby('Price_euros')['Price_euros'].transform('count')\n",
    "sortTable= sortTable.drop_duplicates(subset=['Price_euros']).reset_index(drop = True)\n",
    "sortTable['p*_i'] = sortTable['m_i']/sum(sortTable['m_i'])\n",
    "sum_row = {'Product': 'ПРОВЕРКА','Price_euros':'', 'm_i': sum(sortTable['m_i']), 'p*_i': sum(sortTable['p*_i'])}\n",
    "sortTable.append(sum_row, ignore_index=True)\n",
    "\n",
    "mas = np.empty((23, 6))\n",
    "mas.fill(0)\n",
    "n = sortTable['Product'].size\n",
    "k = 1 + 3.322*(np.log2(sortTable['Product'].size))//1\n",
    "max_x = sortTable['Price_euros'].max()\n",
    "min_x = sortTable['Price_euros'].min()\n",
    "h = round((max_x - min_x)/k,3)\n",
    "x0 = round(min_x - 1)\n",
    "borders = []\n",
    "for i in range(24):\n",
    "    borders.append(x0+ i*h)\n",
    "\n",
    "intervals = []\n",
    "for i in range(len(borders)-1):\n",
    "    intervals.append([round(borders[i], 3), round(borders[i+1], 3)])\n",
    "\n",
    "mi = []\n",
    "size = 0\n",
    "for j in range(len(borders)-1):\n",
    "    tmp = sortTable['Price_euros'].between(borders[j], borders[j+1], inclusive='right').tolist()\n",
    "    for i in range(len(tmp)):\n",
    "        if tmp[i]:\n",
    "            size+=1\n",
    "    mi.append(size)\n",
    "    size = 0\n",
    "\n",
    "rangeTable = pd.DataFrame(data={'Промежуток': intervals, 'mi': mi})\n",
    "print('\\n')\n",
    "rangeTable['pi'] = round(rangeTable['mi']/n,4)\n",
    "\n",
    "\n",
    "mas = np.empty((len(rangeTable),len(rangeTable1)))\n",
    "mas.fill(0)\n",
    "\n",
    "for k in range(len(table)):\n",
    "    for i in range(len(rangeTable)):\n",
    "        if rangeTable['Промежуток'][i][0] < table['Price_euros'][k] <= rangeTable['Промежуток'][i][1]:\n",
    "            for j in range(len(rangeTable1)):\n",
    "                if rangeTable1['Промежуток'][j][0] < table['Weight'][k] <= rangeTable1['Промежуток'][j][1]:\n",
    "                    mas[i][j] += 1\n",
    "\n",
    "\n",
    "\n",
    "cor_tab = pd.DataFrame(mas, columns=['y1', 'y2','y3','y4','y5','y6',])\n",
    "cor_tab['m_xi'] = cor_tab.sum(axis=1)\n",
    "m_xi = sum(cor_tab['m_xi'])\n",
    "cor_tab = cor_tab.append(cor_tab.sum(axis=0), ignore_index=True)\n",
    "m_yi = 0\n",
    "for i in range(len(cor_tab.columns)-1):\n",
    "    m_yi += cor_tab['y' + str(i+1)][len(cor_tab)-1]\n",
    "###########\n",
    "print('корреляционная таблица из 4 работы(x - Price_euros, y - Weight):')\n",
    "print(cor_tab)\n",
    "sum_cor_x = 0\n",
    "sum_cor_y = 0\n",
    "n = sum(cor_tab['m_xi'])\n",
    "\n",
    "mid_intervals1 = []\n",
    "for i in range(6):\n",
    "    mid_intervals1.append((intervals1[i][0] + intervals1[i][1])/2)\n",
    "\n",
    "mid_intervals=[]\n",
    "print('\\n')\n",
    "for i in range(len(borders)-1):\n",
    "    mid_intervals.append(round((borders[i] + borders[i+1])/2, 3))\n",
    "\n",
    "x_mid_c = 0\n",
    "y_mid_c = 0\n",
    "x_mid2 = 0\n",
    "y_mid2 = 0\n",
    "x_mid_y = []\n",
    "y_mid_x = []\n",
    "\n",
    "\n",
    "for i in range(6):\n",
    "   y_mid_c += mid_intervals1[i] * cor_tab['y' + str(i + 1)][len(cor_tab) - 1]\n",
    "   y_mid2 += mid_intervals1[i]**2 * cor_tab['y' + str(i + 1)][len(cor_tab) - 1]\n",
    "   x_mid_y.append(sum(cor_tab['y' + str(i + 1)].head(len(cor_tab) - 1) * mid_intervals)/  cor_tab['y' + str(i + 1)][len(cor_tab) - 1])\n",
    "sum = 0\n",
    "for i in range(len(cor_tab) - 1):\n",
    "    x_mid_c += mid_intervals[i] * cor_tab['m_xi'][i]\n",
    "    x_mid2 += mid_intervals[i]**2 * cor_tab['m_xi'][i]\n",
    "    for j in range(6):\n",
    "        sum+=cor_tab['y' + str(j + 1)][i] * mid_intervals1[j]\n",
    "    if cor_tab['m_xi'][i] == 0:\n",
    "        a = 0\n",
    "    else:\n",
    "        a = sum / cor_tab['m_xi'][i]\n",
    "    y_mid_x.append(a)\n",
    "    sum = 0\n",
    "x_mid_c/= 112\n",
    "y_mid_c/= 112\n",
    "x_mid2/= 112\n",
    "y_mid2/= 112\n",
    "general_disp_x = x_mid2 - x_mid_c**2\n",
    "general_disp_y = y_mid2 - y_mid_c**2\n",
    "df1 = cor_tab.copy()\n",
    "df1.pop('m_xi')\n",
    "a=(x_mid_y - x_mid_c)**2\n",
    "b=df1.iloc[len(cor_tab) - 1]\n",
    "s= a*b\n",
    "delta1 = 0\n",
    "for i in range(len(s)):\n",
    "    delta1 += s[i]\n",
    "delta1/=112\n",
    "print(f'проверка неравенств корреляционных отношений:\\n'\n",
    "      f'{round(np.sqrt(delta1/general_disp_x), 3)} > {corr}')\n",
    "a = (y_mid_x - y_mid_c)**2\n",
    "b = cor_tab['m_xi'].head(len(cor_tab) - 1)\n",
    "s = a*b\n",
    "delta2 = 0\n",
    "for i in range(len(s)):\n",
    "    delta2+= s[i]\n",
    "delta2/=112\n",
    "print(f'{round(np.sqrt(delta2/general_disp_y), 3)} > {corr}')"
   ],
   "metadata": {
    "collapsed": false,
    "pycharm": {
     "name": "#%%\n"
    }
   }
  },
  {
   "cell_type": "markdown",
   "source": [
    "Задание 4\n",
    "\n"
   ],
   "metadata": {
    "collapsed": false,
    "pycharm": {
     "name": "#%% md\n"
    }
   }
  }
 ],
 "metadata": {
  "kernelspec": {
   "display_name": "Python 3",
   "language": "python",
   "name": "python3"
  },
  "language_info": {
   "codemirror_mode": {
    "name": "ipython",
    "version": 2
   },
   "file_extension": ".py",
   "mimetype": "text/x-python",
   "name": "python",
   "nbconvert_exporter": "python",
   "pygments_lexer": "ipython2",
   "version": "2.7.6"
  },
  "pycharm": {
   "stem_cell": {
    "cell_type": "raw",
    "source": [
     "\n"
    ],
    "metadata": {
     "collapsed": false
    }
   }
  }
 },
 "nbformat": 4,
 "nbformat_minor": 0
}