{
 "cells": [
  {
   "cell_type": "markdown",
   "metadata": {
    "collapsed": true,
    "pycharm": {
     "name": "#%% md\n"
    }
   },
   "source": [
    "Задание 1"
   ]
  },
  {
   "cell_type": "code",
   "execution_count": 61,
   "metadata": {
    "pycharm": {
     "name": "#%%\n"
    }
   },
   "outputs": [
    {
     "name": "stdout",
     "output_type": "stream",
     "text": [
      "sko - неизвестно\n",
      "доверительные интервалы:\n",
      "при 0.95:  (1.664, 2.082)\n",
      "при 0.99:  (1.545, 2.201)\n"
     ]
    }
   ],
   "source": [
    "import numpy as np\n",
    "from numpy.ma import sqrt\n",
    "\n",
    "def precision(t, s, n, n_gen):\n",
    "    return round(t * s / sqrt(n) * sqrt(1 - n / n_gen), 3)\n",
    "\n",
    "print ('sko - неизвестно')\n",
    "n_general = 112\n",
    "n_select = 43\n",
    "s_correct = 0.68\n",
    "x_mid = 1.873\n",
    "t1 = 2.571# при 0.95\n",
    "t2 = 4.032# при 0.99\n",
    "prec1 = precision(t1, s_correct, n_select, n_general)\n",
    "prec2 = precision(t2, s_correct, n_select, n_general)\n",
    "print('доверительные интервалы:')\n",
    "print('при 0.95: ', (x_mid - prec1, x_mid + prec1))\n",
    "print('при 0.99: ', (x_mid - prec2, round(x_mid + prec2, 3)))\n"
   ]
  },
  {
   "cell_type": "markdown",
   "metadata": {
    "pycharm": {
     "name": "#%% md\n"
    }
   },
   "source": [
    "Задание 2"
   ]
  },
  {
   "cell_type": "code",
   "execution_count": 62,
   "metadata": {
    "pycharm": {
     "name": "#%%\n"
    }
   },
   "outputs": [
    {
     "name": "stdout",
     "output_type": "stream",
     "text": [
      "доверительные интервалы для sko:\n",
      "при 0.95: (0.471, 0.889)\n",
      "при 0.99: (0.352, 1.008)\n"
     ]
    }
   ],
   "source": [
    "def intervals_sko(s, q):\n",
    "    return round(s * (1 - q), 3), round(s * (1 + q), 3)\n",
    "\n",
    "\n",
    "q1 = prec1/ s_correct # при 0.95\n",
    "q2 = prec2/ s_correct # при 0.99\n",
    "print('доверительные интервалы для sko:')\n",
    "print('при 0.95:', intervals_sko(s_correct, q1) )\n",
    "print('при 0.99:', intervals_sko(s_correct, q2))"
   ]
  },
  {
   "cell_type": "markdown",
   "metadata": {
    "pycharm": {
     "name": "#%% md\n"
    }
   },
   "source": [
    "Задание 3"
   ]
  },
  {
   "cell_type": "code",
   "execution_count": 103,
   "metadata": {
    "pycharm": {
     "name": "#%%\n"
    }
   },
   "outputs": [
    {
     "name": "stdout",
     "output_type": "stream",
     "text": [
      "\n",
      "\n",
      "         interval  mi        pi        mi'  (mi - mi')^2 / mi'\n",
      "0   (-inf, 0.995)   2  0.098321   4.227814               1.174\n",
      "1  (0.995, 1.495)  12  0.190824   8.205449               1.755\n",
      "2  (1.495, 1.995)  11  0.282047  12.128028               0.105\n",
      "3  (1.995, 2.495)  11  0.248634  10.691269               0.009\n",
      "4  (2.495, 2.995)   5  0.130702   5.620167               0.068\n",
      "5  (2.995, 3.495)   2  0.040939   1.760365               0.033\n",
      "\n",
      "xi_набл =  3.144\n",
      "df =  3\n",
      "xi_крит = xi(0.05; 3) = 7.815\n",
      "xi_наб < xi_крит => гипотеза о нормальности распределения верна\n"
     ]
    }
   ],
   "source": [
    "from scipy.special import erf\n",
    "import pandas as pd\n",
    "\n",
    "a = 0.05\n",
    "mi = [2, 12, 11, 11, 5, 2]\n",
    "n = 43\n",
    "rangeTable = pd.DataFrame(data={'interval': [(-np.inf, 0.995),(0.995, 1.495), (1.495, 1.995) ,(1.995, 2.495), (2.495, 2.995), (2.995, 3.495)], 'mi': mi})\n",
    "print('\\n')\n",
    "Phi = lambda x: erf(x/2**0.5)/2\n",
    "pi =[]\n",
    "for i in range(6):\n",
    "    pi.append(round(Phi((rangeTable['interval'][i][1] - x_mid)/ s_correct) - Phi((rangeTable['interval'][i][0] - x_mid)/ s_correct),10))\n",
    "\n",
    "rangeTable['pi'] = pi\n",
    "rangeTable['mi\\''] = round(rangeTable['pi'] * n, 10)\n",
    "rangeTable['(mi - mi\\')^2 / mi\\''] = round(pow(rangeTable['mi'] - rangeTable['mi\\''], 2) / rangeTable['mi\\''], 3)\n",
    "\n",
    "print(rangeTable)\n",
    "print('\\nxi_набл = ', round(sum(rangeTable['(mi - mi\\')^2 / mi\\'']), 3))\n",
    "df = 6 - 2 - 1\n",
    "print('df = ', df)\n",
    "print('xi_крит = xi(0.05; 3) = 7.815' )\n",
    "print('xi_наб < xi_крит => гипотеза о нормальности распределения верна')\n",
    "\n"
   ]
  }
 ],
 "metadata": {
  "kernelspec": {
   "display_name": "Python 3 (ipykernel)",
   "language": "python",
   "name": "python3"
  },
  "language_info": {
   "codemirror_mode": {
    "name": "ipython",
    "version": 3
   },
   "file_extension": ".py",
   "mimetype": "text/x-python",
   "name": "python",
   "nbconvert_exporter": "python",
   "pygments_lexer": "ipython3",
   "version": "3.8.10"
  }
 },
 "nbformat": 4,
 "nbformat_minor": 1
}
